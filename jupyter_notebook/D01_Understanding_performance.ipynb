{
 "cells": [
  {
   "cell_type": "markdown",
   "id": "b886672c",
   "metadata": {},
   "source": [
    "Let's compare 3 methods to make sum of array (with array containing elements of 1 to 10000)"
   ]
  },
  {
   "cell_type": "code",
   "execution_count": 9,
   "id": "a702257e",
   "metadata": {},
   "outputs": [
    {
     "name": "stdout",
     "output_type": "stream",
     "text": [
      "user_defined_sum : 5000050000\n",
      "python sum :       5000050000\n",
      "numpy sum :        5000050000\n"
     ]
    }
   ],
   "source": [
    "import numpy as np\n",
    "\n",
    "def user_defined_sum(l):\n",
    "    res = 0\n",
    "    for x in l:\n",
    "        res += x\n",
    "        \n",
    "    return res\n",
    "\n",
    "python_list_10000 = [i for i in range(1, 100001)]\n",
    "\n",
    "numpy_list_10000 = np.arange(1, 100001, dtype=np.int32)\n",
    "\n",
    "print(f\"user_defined_sum : {user_defined_sum(python_list_10000)}\")\n",
    "print(f\"python sum :       {sum(python_list_10000)}\")\n",
    "print(f\"numpy sum :        {numpy_list_10000.sum()}\")"
   ]
  },
  {
   "cell_type": "markdown",
   "id": "b0e98936",
   "metadata": {},
   "source": [
    "The three methods produce the same result, great ! But do they have the same efficiency ?\n",
    "\n",
    "(NB : %timeit is a procedure to ask python to make nice performance calculation)"
   ]
  },
  {
   "cell_type": "code",
   "execution_count": 10,
   "id": "ec215a1a",
   "metadata": {},
   "outputs": [
    {
     "name": "stdout",
     "output_type": "stream",
     "text": [
      "3.96 ms ± 884 µs per loop (mean ± std. dev. of 7 runs, 100 loops each)\n",
      "1.1 ms ± 117 µs per loop (mean ± std. dev. of 7 runs, 1,000 loops each)\n",
      "66.9 µs ± 7.72 µs per loop (mean ± std. dev. of 7 runs, 10,000 loops each)\n"
     ]
    }
   ],
   "source": [
    "%timeit user_defined_sum(python_list_10000)\n",
    "%timeit sum(python_list_10000)\n",
    "%timeit numpy_list_10000.sum()"
   ]
  },
  {
   "cell_type": "markdown",
   "id": "e08d66e7",
   "metadata": {},
   "source": [
    "Oh, the performance are not the same at all !\n",
    "So between our naive function and python builtin, we have a x4 factor, and between python built in and numpy array, we have a x15 factor !"
   ]
  },
  {
   "cell_type": "code",
   "execution_count": 11,
   "id": "002f3b8c",
   "metadata": {},
   "outputs": [],
   "source": [
    "import pandas as pd"
   ]
  },
  {
   "cell_type": "code",
   "execution_count": 1,
   "id": "92ab77c9",
   "metadata": {},
   "outputs": [],
   "source": []
  },
  {
   "cell_type": "code",
   "execution_count": null,
   "id": "f16709d1",
   "metadata": {},
   "outputs": [],
   "source": []
  }
 ],
 "metadata": {
  "kernelspec": {
   "display_name": "Python 3 (ipykernel)",
   "language": "python",
   "name": "python3"
  },
  "language_info": {
   "codemirror_mode": {
    "name": "ipython",
    "version": 3
   },
   "file_extension": ".py",
   "mimetype": "text/x-python",
   "name": "python",
   "nbconvert_exporter": "python",
   "pygments_lexer": "ipython3",
   "version": "3.9.7"
  }
 },
 "nbformat": 4,
 "nbformat_minor": 5
}
