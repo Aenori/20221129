{
 "cells": [
  {
   "cell_type": "markdown",
   "id": "a215c871",
   "metadata": {},
   "source": [
    "## Understanding performance\n",
    "\n",
    "### Comparez le code built-in python, user code et numpy"
   ]
  },
  {
   "cell_type": "markdown",
   "id": "b886672c",
   "metadata": {},
   "source": [
    "Comparons 3 méthodes pour faire la somme des éléments d'un tableau (avec des éléments contenant de 1 à 10000 ici)"
   ]
  },
  {
   "cell_type": "code",
   "execution_count": 1,
   "id": "a702257e",
   "metadata": {},
   "outputs": [
    {
     "name": "stdout",
     "output_type": "stream",
     "text": [
      "user_defined_sum : 5000050000\n",
      "python sum :       5000050000\n",
      "numpy sum :        5000050000\n"
     ]
    }
   ],
   "source": [
    "import numpy as np\n",
    "\n",
    "def user_defined_sum(l):\n",
    "    res = 0\n",
    "    for x in l:\n",
    "        res += x\n",
    "        \n",
    "    return res\n",
    "\n",
    "python_list_10000 = [i for i in range(1, 100001)]\n",
    "\n",
    "numpy_list_10000 = np.arange(1, 100001, dtype=np.int32)\n",
    "\n",
    "print(f\"user_defined_sum : {user_defined_sum(python_list_10000)}\")\n",
    "print(f\"python sum :       {sum(python_list_10000)}\")\n",
    "print(f\"numpy sum :        {numpy_list_10000.sum()}\")"
   ]
  },
  {
   "cell_type": "markdown",
   "id": "b0e98936",
   "metadata": {},
   "source": [
    "Les trois méthodes produisent le même résultat, super! Mais sont-elles également efficace ?\n",
    "\n",
    "(nb: <code>%timeit</code> est une \"magic command\" pour demander à jupyter de mesurer le temps pris par une instruction)"
   ]
  },
  {
   "cell_type": "code",
   "execution_count": 10,
   "id": "ec215a1a",
   "metadata": {},
   "outputs": [
    {
     "name": "stdout",
     "output_type": "stream",
     "text": [
      "3.96 ms ± 884 µs per loop (mean ± std. dev. of 7 runs, 100 loops each)\n",
      "1.1 ms ± 117 µs per loop (mean ± std. dev. of 7 runs, 1,000 loops each)\n",
      "66.9 µs ± 7.72 µs per loop (mean ± std. dev. of 7 runs, 10,000 loops each)\n"
     ]
    }
   ],
   "source": [
    "%timeit user_defined_sum(python_list_10000)\n",
    "%timeit sum(python_list_10000)\n",
    "%timeit numpy_list_10000.sum()"
   ]
  },
  {
   "cell_type": "markdown",
   "id": "e08d66e7",
   "metadata": {},
   "source": [
    "Oh, les performances ne sont pas du tout les mêmes!\n",
    "Ainsi, entre notre fonction naïve et celle de python, nous avons un facteur 4, et entre cette dernière et numpy array, nous avons un facteur 15!"
   ]
  },
  {
   "cell_type": "code",
   "execution_count": null,
   "id": "a44b27c4",
   "metadata": {},
   "outputs": [],
   "source": []
  }
 ],
 "metadata": {
  "kernelspec": {
   "display_name": "Python 3 (ipykernel)",
   "language": "python",
   "name": "python3"
  },
  "language_info": {
   "codemirror_mode": {
    "name": "ipython",
    "version": 3
   },
   "file_extension": ".py",
   "mimetype": "text/x-python",
   "name": "python",
   "nbconvert_exporter": "python",
   "pygments_lexer": "ipython3",
   "version": "3.9.7"
  }
 },
 "nbformat": 4,
 "nbformat_minor": 5
}
