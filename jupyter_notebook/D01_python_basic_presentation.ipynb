{
 "cells": [
  {
   "cell_type": "markdown",
   "id": "3224fa07",
   "metadata": {},
   "source": [
    "Author : Nicolas Rousset  \n",
    "Github : https://github.com/Aenori  \n",
    "Mail : nrousset@gmail.com  \n",
    "License : MIT  "
   ]
  },
  {
   "cell_type": "markdown",
   "id": "ca9c3776",
   "metadata": {},
   "source": [
    "# Python basic"
   ]
  },
  {
   "cell_type": "markdown",
   "id": "7a519042",
   "metadata": {},
   "source": [
    "<a id='variable'></a>\n",
    "## Variable"
   ]
  },
  {
   "cell_type": "markdown",
   "id": "05c137c1",
   "metadata": {},
   "source": [
    "Variable are one of the basis of any programming language, and they are meant to store variable values.  \n",
    "You don't specify the type of a variable in python and variable can even change type ! *That is the kind of thing you should not do*, there is no sensible reason to do that ..."
   ]
  },
  {
   "cell_type": "code",
   "execution_count": null,
   "id": "48901f6f",
   "metadata": {},
   "outputs": [],
   "source": [
    "# int\n",
    "a = 4\n",
    "# float\n",
    "b = 4.0\n",
    "# string\n",
    "c = \"Hello world\""
   ]
  },
  {
   "cell_type": "markdown",
   "id": "3dc35c83",
   "metadata": {},
   "source": [
    "You can ask the type of variable, by simply using the function type()"
   ]
  },
  {
   "cell_type": "code",
   "execution_count": null,
   "id": "d6367f42",
   "metadata": {},
   "outputs": [],
   "source": [
    "type(a)"
   ]
  },
  {
   "cell_type": "markdown",
   "id": "dffd2770",
   "metadata": {},
   "source": [
    "NB : In this case, the type is printed because you are in a jupyter notebook, so an interactive environment, and it is the last result of the cell. Otherwise you should use print to show a variable result."
   ]
  },
  {
   "cell_type": "markdown",
   "id": "316874a5",
   "metadata": {},
   "source": [
    "<a id='string_variable'></a>\n",
    "### String variable\n",
    "\n",
    "You can use three different delimiters for python string, <code>\"</code>, <code>'</code> or <code>\"\"\"</code>.  \n",
    "The three of them create the same kind of string. The only difference is that if you use a delimiter, you can use the other safely.\n",
    "\n",
    "Also the last one <code>\"\"\"</code> is multi-line. It is often used for documentation purpose."
   ]
  },
  {
   "cell_type": "code",
   "execution_count": null,
   "id": "f48e951e",
   "metadata": {},
   "outputs": [],
   "source": [
    "a = \"A string with ' inside\"\n",
    "b = 'A string with \" inside'\n",
    "c = \"\"\"A string\n",
    "that spawn over multiple lines\n",
    "\"\"\""
   ]
  },
  {
   "cell_type": "markdown",
   "id": "7d58028a",
   "metadata": {},
   "source": [
    "<a id='f_string'></a>\n",
    "### F-String"
   ]
  },
  {
   "cell_type": "markdown",
   "id": "6acb9e1e",
   "metadata": {},
   "source": [
    "Let's start by a nice feature of python 3 that will be used through this notebook, f-string.  \n",
    "F string are a new feature in recent version of python that allow to combine string and variables. It is  \n",
    "\n",
    "<code>f\"show variable {var}\"</code>\n",
    "\n",
    "So you just put an **f** before the string symbol to be able to reference any variable inside with the bracket symbol."
   ]
  },
  {
   "cell_type": "code",
   "execution_count": null,
   "id": "d9febf15",
   "metadata": {},
   "outputs": [],
   "source": [
    "a = 25 + 12\n",
    "print(f\"The result of 25 + 12 is {a}\")"
   ]
  },
  {
   "cell_type": "markdown",
   "id": "007f23e4",
   "metadata": {},
   "source": [
    "<a id='syntax'></a>\n",
    "## Syntax and indentation"
   ]
  },
  {
   "cell_type": "markdown",
   "id": "4f472e0f",
   "metadata": {},
   "source": [
    "First starting with something very specific to python : indentation. Indentation has a syntaxing meaning in python, it defines the bloc code. The basic idea is that code should be well indented, and that a good way to do so is to make sure badly indented code doesn't work ...\n",
    "\n",
    "For example the two functions are differents :"
   ]
  },
  {
   "cell_type": "code",
   "execution_count": null,
   "id": "dfa9aeb0",
   "metadata": {},
   "outputs": [],
   "source": [
    "def f1(i):\n",
    "    if i % 2 == 0:\n",
    "        print(f\"{i} is even\")\n",
    "    else:\n",
    "        print(f\"{i} is odd\")\n",
    "        print(i)\n",
    "        \n",
    "def f2(i):\n",
    "    if i % 2 == 0:\n",
    "        print(f\"{i} is even\")\n",
    "    else:\n",
    "        print(f\"{i} is odd\")\n",
    "    print(i)"
   ]
  },
  {
   "cell_type": "markdown",
   "id": "3dd32dd0",
   "metadata": {},
   "source": [
    "The first function only print i if the number is odd, while the second one always print it"
   ]
  },
  {
   "cell_type": "code",
   "execution_count": null,
   "id": "52b8808b",
   "metadata": {},
   "outputs": [],
   "source": [
    "f1(10)\n",
    "f1(11)\n",
    "print(\"=\" * 6)\n",
    "f2(12)\n",
    "f2(13)"
   ]
  },
  {
   "cell_type": "markdown",
   "id": "40b28450",
   "metadata": {},
   "source": [
    "The syntaxing symbol <code>:</code> is strongly linked to indentation, you will find after each instruction that require a block code :  \n",
    "\n",
    "    if a == 3:\n",
    "        pass\n",
    "    for a in l:\n",
    "        pass\n",
    "    def my_function(i):\n",
    "        pass"
   ]
  },
  {
   "cell_type": "markdown",
   "id": "9c611e59",
   "metadata": {},
   "source": [
    "### One of the strange keyword\n",
    "\n",
    "<code>pass</code> is a strange keyword. It means \"do nothing\". What is the use of this keyword ? It is simply that python expect an indented bloc after all instruction that requires it, so if you don't want to provide one yet, you have to use the <code>pass</code> keyword."
   ]
  },
  {
   "cell_type": "markdown",
   "id": "86f6c604",
   "metadata": {},
   "source": [
    "<a id='functions'></a>\n",
    "## Defining functions"
   ]
  },
  {
   "cell_type": "markdown",
   "id": "ebb63ca1",
   "metadata": {},
   "source": [
    "Function in python are defined using the keyword <code>def</code> which is followed by the name of the function and the argument :"
   ]
  },
  {
   "cell_type": "code",
   "execution_count": null,
   "id": "69819d71",
   "metadata": {},
   "outputs": [],
   "source": [
    "def custom_sum(a, b):\n",
    "    return a + b"
   ]
  },
  {
   "cell_type": "markdown",
   "id": "659a6d0a",
   "metadata": {},
   "source": [
    "You don't specify any type, and so the same function can be used with different type :"
   ]
  },
  {
   "cell_type": "code",
   "execution_count": null,
   "id": "a2c19140",
   "metadata": {},
   "outputs": [],
   "source": [
    "custom_sum(1, 3)"
   ]
  },
  {
   "cell_type": "code",
   "execution_count": null,
   "id": "fc2f93e9",
   "metadata": {},
   "outputs": [],
   "source": [
    "custom_sum(\"1\", \"3\")"
   ]
  },
  {
   "cell_type": "markdown",
   "id": "64bc50a8",
   "metadata": {},
   "source": [
    "<code>return</code> is the keyword to define the result of the function. The function is stopped, exited and its result returned.\n",
    "\n",
    "Be careful that once again, python won't warn you if you write code after the return, even if it won't called anyway "
   ]
  },
  {
   "cell_type": "code",
   "execution_count": null,
   "id": "c73e18bb",
   "metadata": {},
   "outputs": [],
   "source": [
    "def custom_sum(a, b):\n",
    "    return a + b\n",
    "    print(f\"The result is {a + b}\") # This line will never be executed, \n",
    "        # and would produce an error on some compiled language\n",
    "    \n",
    "custom_sum(1, 2)"
   ]
  },
  {
   "cell_type": "markdown",
   "id": "03e309b6",
   "metadata": {},
   "source": [
    "## DataStructure\n",
    "\n",
    "Datastructure are a main tool in programming, as they are used to store and process data. \n",
    "\n",
    "!Disclaimer : data analysis in python use some specific data structure, pandas dataframe, numpy array and other.\n",
    "\n",
    "The four main data structure in python are :"
   ]
  },
  {
   "cell_type": "code",
   "execution_count": null,
   "id": "c533889b",
   "metadata": {},
   "outputs": [],
   "source": [
    "# List\n",
    "a_list = [1, 2, 3]\n",
    "\n",
    "# Tuple, which is a not mutable list\n",
    "a_tuple = (1, 2, 3)\n",
    "\n",
    "# Set\n",
    "a_set = {1, 2, 3} #\n",
    "# or \n",
    "a_set_2 = set([1, 2, 3])\n",
    "\n",
    "# Dict\n",
    "a_dict = {1: 2, 3: 4}"
   ]
  },
  {
   "cell_type": "markdown",
   "id": "7e3c2ea7",
   "metadata": {},
   "source": [
    "List are structure that are ordered (from the first element to the last) but they don't have any kind of search structure attached, so finding an element by its value is slow.\n",
    "\n",
    "Set and dict have search structure.\n",
    "\n",
    "### Examples"
   ]
  },
  {
   "cell_type": "code",
   "execution_count": null,
   "id": "719ddc48",
   "metadata": {},
   "outputs": [],
   "source": [
    "a_list = ['a', 'b', 'c']\n",
    "print(a_list[1]) # fast\n",
    "print('b' in a_list) # slow\n",
    "\n",
    "a_set = {'a', 'b', 'c'}\n",
    "try:  \n",
    "    # This will provoke an error\n",
    "    a_set[1]\n",
    "except:  \n",
    "    print(\"Sorry, you can't access set element with index\")\n",
    "print('b' in a_set)  "
   ]
  },
  {
   "cell_type": "code",
   "execution_count": null,
   "id": "385ec3c5",
   "metadata": {},
   "outputs": [],
   "source": [
    "a_dict = {'a' : 2, 'b' : 3, 'c' : 5}\n",
    "print(a_dict['c'])"
   ]
  },
  {
   "cell_type": "markdown",
   "id": "0e352085",
   "metadata": {},
   "source": [
    "Don't hesitate if you have question here, there is a lot to tell about data structure, but since, once again, you won't use them to store your data, i don't want to emphasize to much."
   ]
  },
  {
   "cell_type": "markdown",
   "id": "e8838de8",
   "metadata": {},
   "source": [
    "<a id=\"slice\"></a>\n",
    "### List and tuple slices\n",
    "\n",
    "One specific python syntax with list and tuple are the ability to extract a slice of a list. The syntax is close to range, it works with lower bound (included) to upper bound (excluded)"
   ]
  },
  {
   "cell_type": "code",
   "execution_count": null,
   "id": "7f7a3a66",
   "metadata": {},
   "outputs": [],
   "source": [
    "a_list = ['a', 'b', 'c', 'd', 'e']\n",
    "print(a_list[2:4]) # print ['c', 'd']\n",
    "print(a_list[:4]) # print ['a', 'b', 'c', 'd']"
   ]
  },
  {
   "cell_type": "markdown",
   "id": "1f4f2728",
   "metadata": {},
   "source": [
    "### list.append\n",
    "\n",
    "One specific feature of list is that you can modify them. The main method for that is the method append, that add an element to the list"
   ]
  },
  {
   "cell_type": "code",
   "execution_count": null,
   "id": "0ed959e5",
   "metadata": {},
   "outputs": [],
   "source": [
    "# compare the two case\n",
    "list_1 = [1, 2, 3]\n",
    "list_2 = list_1 + [4]\n",
    "print(list_1) # show [1, 2, 3]\n",
    "print(list_2) # show [1, 2, 3, 4]\n",
    "\n",
    "# compare the two case\n",
    "list_3 = [1, 2, 3]\n",
    "list_4 = list_3.append(4)\n",
    "print(list_3) # show [1, 2, 3, 4] => list_3 has been modified\n",
    "print(list_4) # show None => append return nothing"
   ]
  },
  {
   "cell_type": "markdown",
   "id": "b53b112d",
   "metadata": {},
   "source": [
    "<a id='packing'></a>\n",
    "## Packing_and_unpacking"
   ]
  },
  {
   "cell_type": "markdown",
   "id": "e8296ccc",
   "metadata": {},
   "source": [
    "One nice feature of python (compared to Java and C++) is the facility to pack and unpack variables, for example if you want a function to return 2 values."
   ]
  },
  {
   "cell_type": "code",
   "execution_count": null,
   "id": "3b1c36ee",
   "metadata": {},
   "outputs": [],
   "source": [
    "def f():\n",
    "    return 1, 2\n",
    "\n",
    "# We can get the result in one variable, that would be a tuple\n",
    "x = f()\n",
    "print(\"*\" * 6)\n",
    "print(type(x))\n",
    "print(x)\n",
    "\n",
    "# Or we can directly unpack values\n",
    "x, y = f()\n",
    "print(\"*\" * 6)\n",
    "print(type(x))\n",
    "print(x)\n",
    "print(type(x))\n",
    "print(x)"
   ]
  },
  {
   "cell_type": "markdown",
   "id": "b5a7992a",
   "metadata": {},
   "source": [
    "<a id='loop'></a>\n",
    "## Loop and control flow"
   ]
  },
  {
   "cell_type": "markdown",
   "id": "b1c1a052",
   "metadata": {},
   "source": [
    "Three main instruction for control flow and loop are :  \n",
    "- <code>if</code>  \n",
    "- <code>for</code>  \n",
    "- <code>while</code>  \n",
    "\n",
    "Among the three, while is not used a lot. Also it is worth mentionning that <code>for</code> corresponds to <code>foreach</code> in other language. "
   ]
  },
  {
   "cell_type": "code",
   "execution_count": null,
   "id": "10619449",
   "metadata": {},
   "outputs": [],
   "source": [
    "a_list = ['a', 'b', 'c', 'd']\n",
    "for elt in a_list:\n",
    "    print(elt)"
   ]
  },
  {
   "cell_type": "markdown",
   "id": "3f7317fc",
   "metadata": {},
   "source": [
    "For this reason, <code>for</code> is often used in conjunction with <code>range</code>. range takes up to 3 arguments, and return numbers, depending of the number of argument."
   ]
  },
  {
   "cell_type": "code",
   "execution_count": null,
   "id": "feab0d2b",
   "metadata": {},
   "outputs": [],
   "source": [
    "print(\"One argument\")\n",
    "for it in range(3): # one argument, => upper bounds (excluded)\n",
    "    print(it)\n",
    "print(\"Two argument\")\n",
    "for it in range(2, 7): # two argument, => lower bound (included), upper bounds (excluded)\n",
    "    print(it)\n",
    "print(\"Three arguments\")\n",
    "# Three arguments is not used a lot, except for reverse looping\n",
    "for it in range(2, 7, 2): # three argument, => lower bound (included), upper bounds (excluded) and step\n",
    "    print(it)"
   ]
  },
  {
   "cell_type": "markdown",
   "id": "9b8dc5f0",
   "metadata": {},
   "source": [
    "### Conditionnal structure If / elif / else"
   ]
  },
  {
   "cell_type": "markdown",
   "id": "2ecbef8b",
   "metadata": {},
   "source": [
    "You can write condition using the classical if / elif / else"
   ]
  },
  {
   "cell_type": "code",
   "execution_count": null,
   "id": "28da17bb",
   "metadata": {},
   "outputs": [],
   "source": [
    "x = 10\n",
    "\n",
    "if x > 100:\n",
    "    print(\"x is bigger than 100\")\n",
    "elif x < 0:\n",
    "    print(\"x is smaller than 0\")\n",
    "else:\n",
    "    print(\"x is between 0 and 100\")"
   ]
  },
  {
   "cell_type": "markdown",
   "id": "4a0e819b",
   "metadata": {},
   "source": [
    "You can have as many elif as you want"
   ]
  },
  {
   "cell_type": "markdown",
   "id": "dbdfb6dc",
   "metadata": {},
   "source": [
    "<a id='class'></a>\n",
    "## Class in python"
   ]
  },
  {
   "cell_type": "markdown",
   "id": "3d397af9",
   "metadata": {},
   "source": [
    "### Class syntax in python"
   ]
  },
  {
   "cell_type": "markdown",
   "id": "c4a4dd50",
   "metadata": {},
   "source": [
    "Class are an object that combines data (attributes) and function (methods).  \n",
    "In python, the two specificity to notes are the use of the <code>self</code> keyword inside the code to refers to the object itself, and the convention for system methods : \n",
    "\n",
    "    __xxx__ \n",
    "    \n",
    "As mentionned before, class are not used a lot in python, especially in data analysis, so if you don't get this part, it doesn't matter. "
   ]
  },
  {
   "cell_type": "code",
   "execution_count": null,
   "id": "e0263e3f",
   "metadata": {},
   "outputs": [],
   "source": [
    "class Animal:\n",
    "    # Defining the constructor, this method is called when you create an object  \n",
    "    def __init__(self, name):\n",
    "        self.name = name\n",
    "        \n",
    "    def __str__(self):\n",
    "        return f\"I am an animal : {self.name}\"\n",
    "\n",
    "    def speak(self):\n",
    "        print(\"I don't know how to\")\n",
    "    \n",
    "# A class can inherit another class\n",
    "class Dog(Animal):\n",
    "    def __init__(self, name, breed):\n",
    "        # Calling the constructor\n",
    "        super().__init__(name)\n",
    "        self.breed = breed\n",
    "        \n",
    "    def speak(self):\n",
    "        print(\"Wouaf wouaf\")\n",
    "\n",
    "max = Dog(\"Max\", \"Labrador\")\n",
    "# Will call Animal.__str__\n",
    "print(max)\n",
    "# Will class Dog.speak()\n",
    "max.speak()"
   ]
  },
  {
   "cell_type": "markdown",
   "id": "d1e0494c",
   "metadata": {},
   "source": [
    "### Limit to class : class vs panda dataframe"
   ]
  },
  {
   "cell_type": "markdown",
   "id": "2dca3785",
   "metadata": {},
   "source": [
    "As mentionned, python allow OOP (object oriented programming) which basically means defining class.  \n",
    "Nevertheless, it is only the shadow of what it is in java or C++.  \n",
    "The reason is that the real power of OOP is to define the properties and capacity of an object, and making sure at compilation time that everything is right in the code. OOP strong point is really a specification checked by compilation.\n",
    "\n",
    "As you don't have this check in python, OOP is still powerful for some generic behaviour, but overall, it is not a proeminent paradigm in python.\n",
    "\n",
    "Also regarding data analysis, OOP is pure python, so badly fit for the python data analysis librairies.\n",
    "\n",
    "Let's compare on an example on the titanic dataset :"
   ]
  },
  {
   "cell_type": "code",
   "execution_count": null,
   "id": "e992ec14",
   "metadata": {},
   "outputs": [],
   "source": [
    "import pandas as pd\n",
    "\n",
    "url = 'https://raw.githubusercontent.com/Aenori/20221024_public/main/dataset/titanic_train.csv'\n",
    "df = pd.read_csv(url, index_col=0)\n",
    "print(df.head(5))"
   ]
  },
  {
   "cell_type": "markdown",
   "id": "69ddb2fd",
   "metadata": {},
   "source": [
    "Each row of the data set describe a passenger with several attributes :"
   ]
  },
  {
   "cell_type": "code",
   "execution_count": null,
   "id": "d228bb1a",
   "metadata": {},
   "outputs": [],
   "source": [
    "df.columns"
   ]
  },
  {
   "cell_type": "markdown",
   "id": "169a7fcf",
   "metadata": {},
   "source": [
    "The matching pure python code for a class would be :"
   ]
  },
  {
   "cell_type": "code",
   "execution_count": null,
   "id": "9eabc120",
   "metadata": {},
   "outputs": [],
   "source": [
    "class Passenger:\n",
    "    def __init__(self, passenger_id, survived, pclass, name, sex, age, sibsp, parch, ticket, fare, cabin, embarked):\n",
    "        self.passenger_id = passenger_id\n",
    "        self.survived = survived\n",
    "        self.pclass = pclass\n",
    "        self.name = name\n",
    "        self.sex = sex\n",
    "        self.age = age\n",
    "        self.sibsp = sibsp\n",
    "        self.parch = parch\n",
    "        self.ticket = ticket\n",
    "        self.fare = fare\n",
    "        self.cabin = cabin\n",
    "        self.embarked = embarked\n",
    "        \n",
    "    def __str__(self):\n",
    "        return f\"Passenger {self.name}, age : {self.age}\""
   ]
  },
  {
   "cell_type": "code",
   "execution_count": null,
   "id": "4a40a683",
   "metadata": {},
   "outputs": [],
   "source": [
    "passenger_as_python_class = []\n",
    "\n",
    "for passenger in df.itertuples():\n",
    "    passenger_as_python_class.append(\n",
    "        Passenger(passenger.Index, passenger.Survived, passenger.Pclass, passenger.Name, \n",
    "                  passenger.Sex, passenger.Age, passenger.SibSp, passenger.Parch, passenger.Ticket, \n",
    "                  passenger.Fare, passenger.Cabin, passenger.Embarked)\n",
    "    )"
   ]
  },
  {
   "cell_type": "code",
   "execution_count": null,
   "id": "026fd923",
   "metadata": {},
   "outputs": [],
   "source": [
    "len(passenger_as_python_class)"
   ]
  },
  {
   "cell_type": "code",
   "execution_count": null,
   "id": "8455ef59",
   "metadata": {},
   "outputs": [],
   "source": [
    "print(passenger_as_python_class[0])"
   ]
  },
  {
   "cell_type": "code",
   "execution_count": null,
   "id": "dab731bb",
   "metadata": {},
   "outputs": [],
   "source": []
  }
 ],
 "metadata": {
  "kernelspec": {
   "display_name": "Python 3 (ipykernel)",
   "language": "python",
   "name": "python3"
  },
  "language_info": {
   "codemirror_mode": {
    "name": "ipython",
    "version": 3
   },
   "file_extension": ".py",
   "mimetype": "text/x-python",
   "name": "python",
   "nbconvert_exporter": "python",
   "pygments_lexer": "ipython3",
   "version": "3.9.7"
  }
 },
 "nbformat": 4,
 "nbformat_minor": 5
}
