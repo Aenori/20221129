{
 "cells": [
  {
   "cell_type": "markdown",
   "id": "30931859",
   "metadata": {},
   "source": [
    "$$\n",
    "\\def\\CC{\\bf C}\n",
    "\\def\\QQ{\\bf Q}\n",
    "\\def\\RR{\\bf R}\n",
    "\\def\\ZZ{\\bf Z}\n",
    "\\def\\NN{\\bf N}\n",
    "$$\n",
    "# Scipy : high-level scientific computing\n",
    "\n",
    "**Authors**: *Gaël Varoquaux, Adrien Chauve, Andre Espaze, Emmanuelle\n",
    "Gouillart, Ralf Gommers*\n",
    "\n",
    "**Scipy**\n",
    "\n",
    "The `scipy` package contains various toolboxes dedicated to common\n",
    "issues in scientific computing. Its different submodules correspond to\n",
    "different applications, such as interpolation, integration,\n",
    "optimization, image processing, statistics, special functions, etc.\n",
    "\n",
    "Tip\n",
    "\n",
    "`scipy` can be compared to other standard scientific-computing\n",
    "libraries, such as the GSL (GNU Scientific Library for C and C++), or\n",
    "Matlab's toolboxes. `scipy` is the core package for scientific routines\n",
    "in Python; it is meant to operate efficiently on `numpy` arrays, so that\n",
    "numpy and scipy work hand in hand.\n",
    "\n",
    "Before implementing a routine, it is worth checking if the desired data\n",
    "processing is not already implemented in Scipy. As non-professional\n",
    "programmers, scientists often tend to **re-invent the wheel**, which\n",
    "leads to buggy, non-optimal, difficult-to-share and unmaintainable code.\n",
    "By contrast, `Scipy`'s routines are optimized and tested, and should\n",
    "therefore be used when possible.\n",
    "\n",
    "Chapters contents\n",
    "\n",
    "Warning\n",
    "\n",
    "This tutorial is far from an introduction to numerical computing. As\n",
    "enumerating the different submodules and functions in scipy would be\n",
    "very boring, we concentrate instead on a few examples to give a general\n",
    "idea of how to use `scipy` for scientific computing.\n",
    "\n",
    "`scipy` is composed of task-specific sub-modules:\n",
    "\n",
    "<table>\n",
    "<tbody>\n",
    "<tr class=\"odd\">\n",
    "<td><code class=\"interpreted-text\" data-role=\"mod\">scipy.cluster</code></td>\n",
    "<td><blockquote>\n",
    "<p>Vector quantization / Kmeans</p>\n",
    "</blockquote></td>\n",
    "</tr>\n",
    "<tr class=\"even\">\n",
    "<td><code class=\"interpreted-text\" data-role=\"mod\">scipy.constants</code></td>\n",
    "<td><blockquote>\n",
    "<p>Physical and mathematical constants</p>\n",
    "</blockquote></td>\n",
    "</tr>\n",
    "<tr class=\"odd\">\n",
    "<td><code class=\"interpreted-text\" data-role=\"mod\">scipy.fftpack</code></td>\n",
    "<td><blockquote>\n",
    "<p>Fourier transform</p>\n",
    "</blockquote></td>\n",
    "</tr>\n",
    "<tr class=\"even\">\n",
    "<td><code class=\"interpreted-text\" data-role=\"mod\">scipy.integrate</code></td>\n",
    "<td><blockquote>\n",
    "<p>Integration routines</p>\n",
    "</blockquote></td>\n",
    "</tr>\n",
    "<tr class=\"odd\">\n",
    "<td><code class=\"interpreted-text\" data-role=\"mod\">scipy.interpolate</code></td>\n",
    "<td><blockquote>\n",
    "<p>Interpolation</p>\n",
    "</blockquote></td>\n",
    "</tr>\n",
    "<tr class=\"even\">\n",
    "<td><code class=\"interpreted-text\" data-role=\"mod\">scipy.io</code></td>\n",
    "<td><blockquote>\n",
    "<p>Data input and output</p>\n",
    "</blockquote></td>\n",
    "</tr>\n",
    "<tr class=\"odd\">\n",
    "<td><code class=\"interpreted-text\" data-role=\"mod\">scipy.linalg</code></td>\n",
    "<td><blockquote>\n",
    "<p>Linear algebra routines</p>\n",
    "</blockquote></td>\n",
    "</tr>\n",
    "<tr class=\"even\">\n",
    "<td><code class=\"interpreted-text\" data-role=\"mod\">scipy.ndimage</code></td>\n",
    "<td><blockquote>\n",
    "<p>n-dimensional image package</p>\n",
    "</blockquote></td>\n",
    "</tr>\n",
    "<tr class=\"odd\">\n",
    "<td><code class=\"interpreted-text\" data-role=\"mod\">scipy.odr</code></td>\n",
    "<td><blockquote>\n",
    "<p>Orthogonal distance regression</p>\n",
    "</blockquote></td>\n",
    "</tr>\n",
    "<tr class=\"even\">\n",
    "<td><code class=\"interpreted-text\" data-role=\"mod\">scipy.optimize</code></td>\n",
    "<td><blockquote>\n",
    "<p>Optimization</p>\n",
    "</blockquote></td>\n",
    "</tr>\n",
    "<tr class=\"odd\">\n",
    "<td><code class=\"interpreted-text\" data-role=\"mod\">scipy.signal</code></td>\n",
    "<td><blockquote>\n",
    "<p>Signal processing</p>\n",
    "</blockquote></td>\n",
    "</tr>\n",
    "<tr class=\"even\">\n",
    "<td><code class=\"interpreted-text\" data-role=\"mod\">scipy.sparse</code></td>\n",
    "<td><blockquote>\n",
    "<p>Sparse matrices</p>\n",
    "</blockquote></td>\n",
    "</tr>\n",
    "<tr class=\"odd\">\n",
    "<td><code class=\"interpreted-text\" data-role=\"mod\">scipy.spatial</code></td>\n",
    "<td><blockquote>\n",
    "<p>Spatial data structures and algorithms</p>\n",
    "</blockquote></td>\n",
    "</tr>\n",
    "<tr class=\"even\">\n",
    "<td><code class=\"interpreted-text\" data-role=\"mod\">scipy.special</code></td>\n",
    "<td><blockquote>\n",
    "<p>Any special mathematical functions</p>\n",
    "</blockquote></td>\n",
    "</tr>\n",
    "<tr class=\"odd\">\n",
    "<td><code class=\"interpreted-text\" data-role=\"mod\">scipy.stats</code></td>\n",
    "<td><blockquote>\n",
    "<p>Statistics</p>\n",
    "</blockquote></td>\n",
    "</tr>\n",
    "</tbody>\n",
    "</table>\n",
    "\n",
    "Tip\n",
    "\n",
    "They all depend on `numpy`, but are mostly independent of each other.\n",
    "The standard way of importing Numpy and these Scipy modules is:"
   ]
  },
  {
   "cell_type": "code",
   "execution_count": null,
   "id": "32936b73",
   "metadata": {},
   "outputs": [],
   "source": [
    "import numpy as np\n",
    "import scipy as sp"
   ]
  },
  {
   "cell_type": "markdown",
   "id": "7ee52bf2",
   "metadata": {},
   "source": [
    "## File input/output: `scipy.io`\n",
    "\n",
    "**Matlab files**: Loading and saving:"
   ]
  },
  {
   "cell_type": "code",
   "execution_count": null,
   "id": "fff38d76",
   "metadata": {},
   "outputs": [
    {
     "data": {
      "text/plain": [
       "array([[1.,  1.,  1.],\n",
       "       [1.,  1.,  1.],\n",
       "       [1.,  1.,  1.]])"
      ]
     },
     "execution_count": 1,
     "metadata": {},
     "output_type": "execute_result"
    }
   ],
   "source": [
    "import scipy as sp\n",
    "a = np.ones((3, 3))\n",
    "sp.io.savemat('file.mat', {'a': a}) # savemat expects a dictionary\n",
    "data = sp.io.loadmat('file.mat')\n",
    "data['a']"
   ]
  },
  {
   "cell_type": "markdown",
   "id": "a4253652",
   "metadata": {},
   "source": [
    "Warning\n",
    "\n",
    "**Python / Matlab mismatches**, *eg* matlab does not represent 1D arrays"
   ]
  },
  {
   "cell_type": "code",
   "execution_count": null,
   "id": "6f803824",
   "metadata": {},
   "outputs": [
    {
     "data": {
      "text/plain": [
       "array([1.,  1.,  1.])"
      ]
     },
     "execution_count": 1,
     "metadata": {},
     "output_type": "execute_result"
    }
   ],
   "source": [
    "a = np.ones(3)\n",
    "a"
   ]
  },
  {
   "cell_type": "code",
   "execution_count": null,
   "id": "b3be2dc1",
   "metadata": {},
   "outputs": [
    {
     "data": {
      "text/plain": [
       "array([[1.,  1.,  1.]])"
      ]
     },
     "execution_count": 1,
     "metadata": {},
     "output_type": "execute_result"
    }
   ],
   "source": [
    "sp.io.savemat('file.mat', {'a': a})\n",
    "sp.io.loadmat('file.mat')['a']"
   ]
  },
  {
   "cell_type": "markdown",
   "id": "546c602c",
   "metadata": {},
   "source": [
    "Notice the difference?\n",
    "\n",
    "**Image files**: Reading images:"
   ]
  },
  {
   "cell_type": "code",
   "execution_count": null,
   "id": "dcae6875",
   "metadata": {},
   "outputs": [
    {
     "data": {
      "text/plain": [
       "array([[[ 0,   0,  0, 255]]], dtype=uint8)"
      ]
     },
     "execution_count": 1,
     "metadata": {},
     "output_type": "execute_result"
    }
   ],
   "source": [
    "import imageio.v3 as iio\n",
    "iio.imread('fname.png')"
   ]
  },
  {
   "cell_type": "code",
   "execution_count": null,
   "id": "09881f3b",
   "metadata": {},
   "outputs": [
    {
     "data": {
      "text/plain": [
       "array([[[0., 0., 0., 1.]]], dtype=float32)"
      ]
     },
     "execution_count": 1,
     "metadata": {},
     "output_type": "execute_result"
    }
   ],
   "source": [
    "# Matplotlib also has a similar function\n",
    "import matplotlib.pyplot as plt\n",
    "plt.imread('fname.png')"
   ]
  },
  {
   "cell_type": "markdown",
   "id": "89170641",
   "metadata": {},
   "source": [
    "-   Load text files: `numpy.loadtxt`/`numpy.savetxt`\n",
    "-   Clever loading of text/csv files:\n",
    "    `numpy.genfromtxt`/`numpy.recfromcsv`\n",
    "-   Fast and efficient, but numpy-specific, binary format:\n",
    "    `numpy.save`/`numpy.load`\n",
    "-   More advanced input/output of images in scikit-image: `skimage.io`\n",
    "\n",
    "## Special functions: `scipy.special`\n",
    "\n",
    "Special functions are transcendental functions. The docstring of the\n",
    "`scipy.special` module is well-written, so we won't list all functions\n",
    "here. Frequently used ones are:\n",
    "\n",
    "> -   Bessel function, such as `scipy.special.jn` (nth integer order\n",
    ">     Bessel function)\n",
    "> -   Elliptic function (`scipy.special.ellipj` for the Jacobian\n",
    ">     elliptic function, ...)\n",
    "> -   Gamma function: `scipy.special.gamma`, also note\n",
    ">     `scipy.special.gammaln` which will give the log of Gamma to a\n",
    ">     higher numerical precision.\n",
    "> -   Erf, the area under a Gaussian curve: `scipy.special.erf`\n",
    "\n",
    "## Linear algebra operations: `scipy.linalg`\n",
    "\n",
    "Tip\n",
    "\n",
    "The `scipy.linalg` module provides standard linear algebra operations,\n",
    "relying on an underlying efficient implementation (BLAS, LAPACK).\n",
    "\n",
    "-   The `scipy.linalg.det` function computes the determinant of a square\n",
    "    matrix:"
   ]
  },
  {
   "cell_type": "code",
   "execution_count": null,
   "id": "2d12af61",
   "metadata": {},
   "outputs": [
    {
     "data": {
      "text/plain": [
       "-2.0"
      ]
     },
     "execution_count": 1,
     "metadata": {},
     "output_type": "execute_result"
    }
   ],
   "source": [
    "    import scipy as sp\n",
    "    arr = np.array([[1, 2],\n",
    "                    [3, 4]])\n",
    "    sp.linalg.det(arr)"
   ]
  },
  {
   "cell_type": "code",
   "execution_count": null,
   "id": "c3354dc7",
   "metadata": {},
   "outputs": [
    {
     "data": {
      "text/plain": [
       "0.0"
      ]
     },
     "execution_count": 1,
     "metadata": {},
     "output_type": "execute_result"
    }
   ],
   "source": [
    "    arr = np.array([[3, 2],\n",
    "                    [6, 4]])\n",
    "    sp.linalg.det(arr)"
   ]
  },
  {
   "cell_type": "code",
   "execution_count": null,
   "id": "0802e4fe",
   "metadata": {},
   "outputs": [
    {
     "data": {
      "text/plain": [
       "Traceback (most recent call last):\n",
       "...\n",
       "ValueError: expected square matrix"
      ]
     },
     "execution_count": 1,
     "metadata": {},
     "output_type": "execute_result"
    }
   ],
   "source": [
    "    sp.linalg.det(np.ones((3, 4)))"
   ]
  },
  {
   "cell_type": "markdown",
   "id": "18e5e8f2",
   "metadata": {},
   "source": [
    "-   The `scipy.linalg.inv` function computes the inverse of a square\n",
    "    matrix:"
   ]
  },
  {
   "cell_type": "code",
   "execution_count": null,
   "id": "3fc382de",
   "metadata": {},
   "outputs": [
    {
     "data": {
      "text/plain": [
       "array([[-2. ,  1. ],\n",
       "       [ 1.5, -0.5]])"
      ]
     },
     "execution_count": 1,
     "metadata": {},
     "output_type": "execute_result"
    }
   ],
   "source": [
    "    arr = np.array([[1, 2],\n",
    "                    [3, 4]])\n",
    "    iarr = sp.linalg.inv(arr)\n",
    "    iarr"
   ]
  },
  {
   "cell_type": "code",
   "execution_count": null,
   "id": "4a8b8525",
   "metadata": {},
   "outputs": [
    {
     "data": {
      "text/plain": [
       "True"
      ]
     },
     "execution_count": 1,
     "metadata": {},
     "output_type": "execute_result"
    }
   ],
   "source": [
    "    np.allclose(arr @ iarr, np.eye(2))"
   ]
  },
  {
   "cell_type": "markdown",
   "id": "e6c4629c",
   "metadata": {},
   "source": [
    "\n",
    "    Finally computing the inverse of a singular matrix (its determinant\n",
    "    is zero) will raise `LinAlgError` :\n",
    "```{.python .input}\n",
    "    arr = np.array([[3, 2],\n",
    "                    [6, 4]])\n",
    "    sp.linalg.inv(arr)  # doctest: +SKIP\n",
    "```\n",
    "```{.json .output}\n",
    "    [{\"data\": {\"text/plain\": \"Traceback (most recent call last):\\n...\\n...LinAlgError: singular matrix\"}, \"execution_count\": 1, \"metadata\": {}, \"output_type\": \"execute_result\"}]\n",
    "```\n"
   ]
  },
  {
   "cell_type": "markdown",
   "id": "47c9e0fd",
   "metadata": {},
   "source": [
    "-   More advanced operations are available, for example singular-value\n",
    "    decomposition (SVD):"
   ]
  },
  {
   "cell_type": "code",
   "execution_count": null,
   "id": "49ce1b89",
   "metadata": {},
   "outputs": [],
   "source": [
    "    arr = np.arange(9).reshape((3, 3)) + np.diag([1, 0, 1])\n",
    "    uarr, spec, vharr = sp.linalg.svd(arr)"
   ]
  },
  {
   "cell_type": "markdown",
   "id": "43547979",
   "metadata": {},
   "source": [
    "\n",
    "    The resulting array spectrum is:\n",
    "```{.python .input}\n",
    "    spec    # doctest: +ELLIPSIS\n",
    "```\n",
    "```{.json .output}\n",
    "    [{\"data\": {\"text/plain\": \"array([14.88982544,   0.45294236,   0.29654967])\"}, \"execution_count\": 1, \"metadata\": {}, \"output_type\": \"execute_result\"}]\n",
    "```\n",
    "\n",
    "    The original matrix can be re-composed by matrix multiplication of\n",
    "    the outputs of `svd` with `@` :\n",
    "```{.python .input}\n",
    "    sarr = np.diag(spec)\n",
    "    svd_mat = uarr @ sarr @ vharr\n",
    "    np.allclose(svd_mat, arr)\n",
    "```\n",
    "```{.json .output}\n",
    "    [{\"data\": {\"text/plain\": \"True\"}, \"execution_count\": 1, \"metadata\": {}, \"output_type\": \"execute_result\"}]\n",
    "```\n",
    "\n",
    "    SVD is commonly used in statistics and signal processing. Many other\n",
    "    standard decompositions (QR, LU, Cholesky, Schur), as well as\n",
    "    solvers for linear systems, are available in `scipy.linalg`.\n"
   ]
  },
  {
   "cell_type": "markdown",
   "id": "e2e43660",
   "metadata": {},
   "source": [
    "## Interpolation: `scipy.interpolate`\n",
    "\n",
    "`scipy.interpolate` is useful for fitting a function from experimental\n",
    "data and thus evaluating points where no measure exists. The module is\n",
    "based on the [FITPACK Fortran subroutines]().\n",
    "\n",
    "By imagining experimental data close to a sine function:"
   ]
  },
  {
   "cell_type": "code",
   "execution_count": null,
   "id": "d035fa45",
   "metadata": {},
   "outputs": [],
   "source": [
    "measured_time = np.linspace(0, 1, 10)\n",
    "noise = (np.random.random(10)*2 - 1) * 1e-1\n",
    "measures = np.sin(2 * np.pi * measured_time) + noise"
   ]
  },
  {
   "cell_type": "markdown",
   "id": "cb469d89",
   "metadata": {},
   "source": [
    "`scipy.interpolate.interp1d` can build a linear interpolation function:"
   ]
  },
  {
   "cell_type": "code",
   "execution_count": null,
   "id": "73dd9b3e",
   "metadata": {},
   "outputs": [],
   "source": [
    "linear_interp = sp.interpolate.interp1d(measured_time, measures)"
   ]
  },
  {
   "cell_type": "markdown",
   "id": "c1e6d41a",
   "metadata": {},
   "source": [
    "[<img src=\"auto_examples/images/sphx_glr_plot_interpolation_001.png\" alt=\"image\" class=\"align-right\" />](auto_examples/plot_interpolation.html)\n",
    "\n",
    "Then the result can be evaluated at the time of interest:"
   ]
  },
  {
   "cell_type": "code",
   "execution_count": null,
   "id": "81f202eb",
   "metadata": {},
   "outputs": [],
   "source": [
    "interpolation_time = np.linspace(0, 1, 50)\n",
    "linear_results = linear_interp(interpolation_time)"
   ]
  },
  {
   "cell_type": "markdown",
   "id": "2be0bb43",
   "metadata": {},
   "source": [
    "A cubic interpolation can also be selected by providing the `kind`\n",
    "optional keyword argument:"
   ]
  },
  {
   "cell_type": "code",
   "execution_count": null,
   "id": "c3f31808",
   "metadata": {},
   "outputs": [],
   "source": [
    "cubic_interp = sp.interpolate.interp1d(measured_time, measures, kind='cubic')\n",
    "cubic_results = cubic_interp(interpolation_time)"
   ]
  },
  {
   "cell_type": "markdown",
   "id": "b1f34942",
   "metadata": {},
   "source": [
    "`scipy.interpolate.interp2d` is similar to `scipy.interpolate.interp1d`,\n",
    "but for 2-D arrays. Note that for the $interp$ family, the interpolation\n",
    "points must stay within the range of given data points. See the summary\n",
    "exercise on\n",
    "[summary\\_exercise\\_stat\\_interp](summary_exercise_stat_interp.ipynb)\n",
    "for a more advanced spline interpolation example.\n",
    "\n",
    "## Optimization and fit: `scipy.optimize`\n",
    "\n",
    "Optimization is the problem of finding a numerical solution to a\n",
    "minimization or equality.\n",
    "\n",
    "Tip\n",
    "\n",
    "The `scipy.optimize` module provides algorithms for function\n",
    "minimization (scalar or multi-dimensional), curve fitting and root\n",
    "finding.\n",
    "\n",
    "### Curve fitting\n",
    "\n",
    "[<img src=\"auto_examples/images/sphx_glr_plot_curve_fit_001.png\" alt=\"image\" class=\"align-right\" />](auto_examples/plot_curve_fit.html)\n",
    "\n",
    "Suppose we have data on a sine wave, with some noise: :"
   ]
  },
  {
   "cell_type": "code",
   "execution_count": null,
   "id": "6c93366c",
   "metadata": {},
   "outputs": [],
   "source": [
    "x_data = np.linspace(-5, 5, num=50)\n",
    "y_data = 2.9 * np.sin(1.5 * x_data) + np.random.normal(size=50)"
   ]
  },
  {
   "cell_type": "markdown",
   "id": "bd3cb79b",
   "metadata": {},
   "source": [
    "If we know that the data lies on a sine wave, but not the amplitudes or\n",
    "the period, we can find those by least squares curve fitting. First we\n",
    "have to define the test function to fit, here a sine with unknown\n",
    "amplitude and period:"
   ]
  },
  {
   "cell_type": "code",
   "execution_count": null,
   "id": "f60fdfde",
   "metadata": {},
   "outputs": [],
   "source": [
    "def test_func(x, a, b):\n",
    "    return a * np.sin(b * x)"
   ]
  },
  {
   "cell_type": "markdown",
   "id": "0e5dcb21",
   "metadata": {},
   "source": [
    "[<img src=\"auto_examples/images/sphx_glr_plot_curve_fit_002.png\" alt=\"image\" class=\"align-right\" />](auto_examples/plot_curve_fit.html)\n",
    "\n",
    "We then use `scipy.optimize.curve_fit` to find $a$ and $b$ :"
   ]
  },
  {
   "cell_type": "code",
   "execution_count": null,
   "id": "7d6b76ab",
   "metadata": {},
   "outputs": [
    {
     "data": {
      "text/plain": [
       "[3.05931973  1.45754553]"
      ]
     },
     "execution_count": 1,
     "metadata": {},
     "output_type": "execute_result"
    }
   ],
   "source": [
    "params, params_covariance = sp.optimize.curve_fit(test_func, x_data, y_data, p0=[2, 2])\n",
    "print(params)"
   ]
  },
  {
   "cell_type": "markdown",
   "id": "e0438400",
   "metadata": {},
   "source": [
    "<div style=\"clear: both\"></div>\n",
    "\n",
    "**Exercise: Curve fitting of temperature data**\n",
    "\n",
    "The temperature extremes in Alaska for each month, starting in January,\n",
    "are given by (in degrees Celcius):"
   ]
  },
  {
   "cell_type": "code",
   "execution_count": null,
   "id": "bfa41319",
   "metadata": {},
   "outputs": [],
   "source": [
    "max:  17,  19,  21,  28,  33,  38, 37,  37,  31,  23,  19,  18\n",
    "min: -62, -59, -56, -46, -32, -18, -9, -13, -25, -46, -52, -58"
   ]
  },
  {
   "cell_type": "markdown",
   "id": "6c1d9c1a",
   "metadata": {},
   "source": [
    "1.  Plot these temperature extremes.\n",
    "2.  Define a function that can describe min and max temperatures. Hint:\n",
    "    this function has to have a period of 1 year. Hint: include a time\n",
    "    offset.\n",
    "3.  Fit this function to the data with `scipy.optimize.curve_fit`.\n",
    "4.  Plot the result. Is the fit reasonable? If not, why?\n",
    "5.  Is the time offset for min and max temperatures the same within the\n",
    "    fit accuracy?\n",
    "\n",
    "`solution <sphx_glr_intro_scipy_auto_examples_solutions_plot_curvefit_temperature_data.py>`\n",
    "\n",
    "### Finding the minimum of a scalar function\n",
    "\n",
    "[<img src=\"auto_examples/images/sphx_glr_plot_optimize_example1_001.png\" alt=\"image\" class=\"align-right\" />](auto_examples/plot_optimize_example1.html)\n",
    "\n",
    "Let's define the following function: :"
   ]
  },
  {
   "cell_type": "code",
   "execution_count": null,
   "id": "992dece1",
   "metadata": {},
   "outputs": [],
   "source": [
    "def f(x):\n",
    "    return x**2 + 10*np.sin(x)"
   ]
  },
  {
   "cell_type": "markdown",
   "id": "4769b077",
   "metadata": {},
   "source": [
    "and plot it:\n",
    "\n",
    "&gt;&gt;&gt; x = np.arange(-10, 10, 0.1) &gt;&gt;&gt; plt.plot(x, f(x))\n",
    "\\# doctest:+SKIP &gt;&gt;&gt; plt.show() \\# doctest:+SKIP\n",
    "\n",
    "This function has a global minimum around -1.3 and a local minimum\n",
    "around 3.8.\n",
    "\n",
    "Searching for minimum can be done with `scipy.optimize.minimize`, given\n",
    "a starting point x0, it returns the location of the minimum that it has\n",
    "found:\n",
    "\n",
    "**result type**\n",
    "\n",
    "The result of `scipy.optimize.minimize` is a compound object comprising\n",
    "all information on the convergence"
   ]
  },
  {
   "cell_type": "code",
   "execution_count": null,
   "id": "f71a4346",
   "metadata": {},
   "outputs": [
    {
     "data": {
      "text/plain": [
       "      fun: -7.9458233756...\n",
       " hess_inv: array([[0.0858...]])\n",
       "      jac: array([-1.19209...e-06])\n",
       "  message: 'Optimization terminated successfully.'\n",
       "     nfev: 12\n",
       "      nit: 5\n",
       "     njev: 6\n",
       "   status: 0\n",
       "  success: True\n",
       "        x: array([-1.30644...])"
      ]
     },
     "execution_count": 1,
     "metadata": {},
     "output_type": "execute_result"
    }
   ],
   "source": [
    "result = sp.optimize.minimize(f, x0=0)\n",
    "result # doctest: +ELLIPSIS"
   ]
  },
  {
   "cell_type": "code",
   "execution_count": null,
   "id": "321c07da",
   "metadata": {},
   "outputs": [
    {
     "data": {
      "text/plain": [
       "array([-1.30644...])"
      ]
     },
     "execution_count": 1,
     "metadata": {},
     "output_type": "execute_result"
    }
   ],
   "source": [
    "result.x # The coordinate of the minimum  # doctest: +ELLIPSIS"
   ]
  },
  {
   "cell_type": "markdown",
   "id": "e8d4397c",
   "metadata": {},
   "source": [
    "**Methods**: As the function is a smooth function, gradient-descent\n",
    "based methods are good options. The [lBFGS\n",
    "algorithm](https://en.wikipedia.org/wiki/Limited-memory_BFGS) is a good\n",
    "choice in general:"
   ]
  },
  {
   "cell_type": "code",
   "execution_count": null,
   "id": "a8bc5317",
   "metadata": {},
   "outputs": [
    {
     "data": {
      "text/plain": [
       "      fun: -7.94582338...\n",
       " hess_inv: <1x1 LbfgsInvHessProduct with dtype=float64>\n",
       "      jac: array([-1.59872117e-06])\n",
       "  message: 'CONVERGENCE: NORM_OF_PROJECTED_GRADIENT_<=_PGTOL'\n",
       "     nfev: 12\n",
       "      nit: 5\n",
       "     njev: 6\n",
       "   status: 0\n",
       "  success: True\n",
       "        x: array([-1.30644...])"
      ]
     },
     "execution_count": 1,
     "metadata": {},
     "output_type": "execute_result"
    }
   ],
   "source": [
    "sp.optimize.minimize(f, x0=0, method=\"L-BFGS-B\")  # doctest: +ELLIPSIS"
   ]
  },
  {
   "cell_type": "markdown",
   "id": "2882e240",
   "metadata": {},
   "source": [
    "Note how it cost only 12 functions evaluation above to find a good value\n",
    "for the minimum.\n",
    "\n",
    "**Global minimum**: A possible issue with this approach is that, if the\n",
    "function has local minima, the algorithm may find these local minima\n",
    "instead of the global minimum depending on the initial point x0:"
   ]
  },
  {
   "cell_type": "code",
   "execution_count": null,
   "id": "350cadc4",
   "metadata": {},
   "outputs": [
    {
     "data": {
      "text/plain": [
       "array([3.83746...])"
      ]
     },
     "execution_count": 1,
     "metadata": {},
     "output_type": "execute_result"
    }
   ],
   "source": [
    "res = sp.optimize.minimize(f, x0=3, method=\"L-BFGS-B\")\n",
    "res.x"
   ]
  },
  {
   "cell_type": "markdown",
   "id": "1d85bf1a",
   "metadata": {},
   "source": [
    "If we don't know the neighborhood of the global minimum to choose the\n",
    "initial point, we need to resort to costlier global optimization. To\n",
    "find the global minimum, we use `scipy.optimize.basinhopping` (added in\n",
    "version 0.12.0 of Scipy). It combines a local optimizer with sampling of\n",
    "starting points:"
   ]
  },
  {
   "cell_type": "code",
   "execution_count": null,
   "id": "c9304c62",
   "metadata": {},
   "outputs": [
    {
     "data": {
      "text/plain": [
       "                  nfev: 1725\n",
       " minimization_failures: 0\n",
       "                   fun: -7.9458233756152845\n",
       "                     x: array([-1.30644001])\n",
       "               message: ['requested number of basinhopping iterations completed successfully']\n",
       "                  njev: 575\n",
       "                   nit: 100"
      ]
     },
     "execution_count": 1,
     "metadata": {},
     "output_type": "execute_result"
    }
   ],
   "source": [
    "sp.optimize.basinhopping(f, 0)  # doctest: +SKIP"
   ]
  },
  {
   "cell_type": "markdown",
   "id": "fb4a2ccd",
   "metadata": {},
   "source": [
    "Note\n",
    "\n",
    "`scipy` used to contain the routine $anneal$, it has been removed in\n",
    "SciPy 0.16.0.\n",
    "\n",
    "**Constraints**: We can constrain the variable to the interval `(0, 10)`\n",
    "using the \"bounds\" argument:\n",
    "\n",
    "**A list of bounds**\n",
    "\n",
    "As `~scipy.optimize.minimize` works in general with x multidimensionsal,\n",
    "the \"bounds\" argument is a list of bound on each dimension."
   ]
  },
  {
   "cell_type": "code",
   "execution_count": null,
   "id": "f4676e2f",
   "metadata": {},
   "outputs": [
    {
     "data": {
      "text/plain": [
       "array([0.])"
      ]
     },
     "execution_count": 1,
     "metadata": {},
     "output_type": "execute_result"
    }
   ],
   "source": [
    "res = sp.optimize.minimize(f, x0=1,\n",
    "                        bounds=((0, 10), ))\n",
    "res.x    # doctest: +ELLIPSIS"
   ]
  },
  {
   "cell_type": "markdown",
   "id": "1e71b72b",
   "metadata": {},
   "source": [
    "Tip\n",
    "\n",
    "What has happened? Why are we finding 0, which is not a mimimum of our\n",
    "function.\n",
    "\n",
    "****Minimizing functions of several variables****\n",
    "\n",
    "To minimize over several variables, the trick is to turn them into a\n",
    "function of a multi-dimensional variable (a vector). See for instance\n",
    "the exercise on 2D minimization below.\n",
    "\n",
    "Note\n",
    "\n",
    "`scipy.optimize.minimize_scalar` is a function with dedicated methods to\n",
    "minimize functions of only one variable.\n",
    "\n",
    "Finding minima of function is discussed in more details in the advanced\n",
    "chapter: [mathematical\\_optimization](mathematical_optimization.ipynb).\n",
    "\n",
    "**Exercise: 2-D minimization**\n",
    "\n",
    "[<img src=\"auto_examples/images/sphx_glr_plot_2d_minimization_002.png\" alt=\"image\" class=\"align-right\" />](auto_examples/plot_2d_minimization.html)\n",
    "\n",
    "The six-hump camelback function\n",
    "\n",
    "$$f(x, y) = (4 - 2.1x^2 + \\frac{x^4}{3})x^2 + xy + (4y^2 - 4)y^2$$\n",
    "\n",
    "has multiple global and local minima. Find the global minima of this\n",
    "function.\n",
    "\n",
    "Hints:\n",
    "\n",
    "> -   Variables can be restricted to $-2 < x < 2$ and $-1 < y < 1$.\n",
    "> -   Use `numpy.meshgrid` and `matplotlib.pyplot.imshow` to find\n",
    ">     visually the regions.\n",
    "> -   Use `scipy.optimize.minimize`, optionally trying out several of\n",
    ">     its methods.\n",
    "\n",
    "How many global minima are there, and what is the function value at\n",
    "those points? What happens for an initial guess of $(x, y) = (0, 0)$ ?\n",
    "\n",
    "`solution <sphx_glr_intro_scipy_auto_examples_plot_2d_minimization.py>`\n",
    "\n",
    "### Finding the roots of a scalar function\n",
    "\n",
    "To find a root, i.e. a point where $f(x) = 0$, of the function $f$ above\n",
    "we can use `scipy.optimize.root` :"
   ]
  },
  {
   "cell_type": "code",
   "execution_count": null,
   "id": "b01c99cf",
   "metadata": {},
   "outputs": [
    {
     "data": {
      "text/plain": [
       "    fjac: array([[-1.]])\n",
       "     fun: array([0.])\n",
       " message: 'The solution converged.'\n",
       "    nfev: 10\n",
       "     qtf: array([1.33310463e-32])\n",
       "       r: array([-10.])\n",
       "  status: 1\n",
       " success: True\n",
       "       x: array([0.])"
      ]
     },
     "execution_count": 1,
     "metadata": {},
     "output_type": "execute_result"
    }
   ],
   "source": [
    "root = sp.optimize.root(f, x0=1)  # our initial guess is 1\n",
    "root    # The full result"
   ]
  },
  {
   "cell_type": "code",
   "execution_count": null,
   "id": "4c664456",
   "metadata": {},
   "outputs": [
    {
     "data": {
      "text/plain": [
       "array([0.])"
      ]
     },
     "execution_count": 1,
     "metadata": {},
     "output_type": "execute_result"
    }
   ],
   "source": [
    "root.x  # Only the root found"
   ]
  },
  {
   "cell_type": "markdown",
   "id": "2f383efe",
   "metadata": {},
   "source": [
    "Note that only one root is found. Inspecting the plot of $f$ reveals\n",
    "that there is a second root around -2.5. We find the exact value of it\n",
    "by adjusting our initial guess: :"
   ]
  },
  {
   "cell_type": "code",
   "execution_count": null,
   "id": "7e9b4f04",
   "metadata": {},
   "outputs": [
    {
     "data": {
      "text/plain": [
       "array([-2.47948183])"
      ]
     },
     "execution_count": 1,
     "metadata": {},
     "output_type": "execute_result"
    }
   ],
   "source": [
    "root2 = sp.optimize.root(f, x0=-2.5)\n",
    "root2.x"
   ]
  },
  {
   "cell_type": "markdown",
   "id": "2cdd08e5",
   "metadata": {},
   "source": [
    "Note\n",
    "\n",
    "`scipy.optimize.root` also comes with a variety of algorithms, set via\n",
    "the \"method\" argument.\n",
    "\n",
    "[<img src=\"auto_examples/images/sphx_glr_plot_optimize_example2_001.png\" alt=\"image\" class=\"align-right\" />](auto_examples/plot_optimize_example2.html)\n",
    "\n",
    "Now that we have found the minima and roots of `f` and used curve\n",
    "fitting on it, we put all those results together in a single plot:\n",
    "\n",
    "<div style=\"clear: both\"></div>\n",
    "\n",
    "You can find all algorithms and functions with similar functionalities\n",
    "in the documentation of `scipy.optimize`.\n",
    "\n",
    "See the summary exercise on\n",
    "[summary\\_exercise\\_optimize](summary_exercise_optimize.ipynb) for\n",
    "another, more advanced example.\n",
    "\n",
    "## Statistics and random numbers: `scipy.stats`\n",
    "\n",
    "The module `scipy.stats` contains statistical tools and probabilistic\n",
    "descriptions of random processes. Random number generators for various\n",
    "random process can be found in `numpy.random`.\n",
    "\n",
    "### Distributions: histogram and probability density function\n",
    "\n",
    "Given observations of a random process, their histogram is an estimator\n",
    "of the random process's PDF (probability density function): :"
   ]
  },
  {
   "cell_type": "code",
   "execution_count": null,
   "id": "45967193",
   "metadata": {},
   "outputs": [
    {
     "data": {
      "text/plain": [
       "array([-4, -3, -2, -1,  0,  1,  2,  3,  4])"
      ]
     },
     "execution_count": 1,
     "metadata": {},
     "output_type": "execute_result"
    }
   ],
   "source": [
    "samples = np.random.normal(size=1000)\n",
    "bins = np.arange(-4, 5)\n",
    "bins"
   ]
  },
  {
   "cell_type": "code",
   "execution_count": null,
   "id": "4c22a377",
   "metadata": {},
   "outputs": [
    {
     "data": {
      "text/plain": [
       "array([-3.5, -2.5, -1.5, -0.5,  0.5,  1.5,  2.5,  3.5])"
      ]
     },
     "execution_count": 1,
     "metadata": {},
     "output_type": "execute_result"
    }
   ],
   "source": [
    "histogram = np.histogram(samples, bins=bins, density=True)[0]\n",
    "bins = 0.5*(bins[1:] + bins[:-1])\n",
    "bins"
   ]
  },
  {
   "cell_type": "code",
   "execution_count": null,
   "id": "9b222198",
   "metadata": {},
   "outputs": [],
   "source": [
    "pdf = sp.stats.norm.pdf(bins)  # norm is a distribution object"
   ]
  },
  {
   "cell_type": "code",
   "execution_count": null,
   "id": "c4396bea",
   "metadata": {},
   "outputs": [
    {
     "data": {
      "text/plain": [
       "[<matplotlib.lines.Line2D object at ...>]"
      ]
     },
     "execution_count": 1,
     "metadata": {},
     "output_type": "execute_result"
    }
   ],
   "source": [
    "plt.plot(bins, histogram) # doctest: +ELLIPSIS"
   ]
  },
  {
   "cell_type": "code",
   "execution_count": null,
   "id": "b987af2b",
   "metadata": {},
   "outputs": [
    {
     "data": {
      "text/plain": [
       "[<matplotlib.lines.Line2D object at ...>]"
      ]
     },
     "execution_count": 1,
     "metadata": {},
     "output_type": "execute_result"
    }
   ],
   "source": [
    "plt.plot(bins, pdf) # doctest: +ELLIPSIS"
   ]
  },
  {
   "cell_type": "markdown",
   "id": "94879275",
   "metadata": {},
   "source": [
    "[![image](auto_examples/images/sphx_glr_plot_normal_distribution_001.png)](auto_examples/plot_normal_distribution.html)\n",
    "\n",
    "****The distribution objects****\n",
    "\n",
    "`scipy.stats.norm` is a distribution object: each distribution in\n",
    "`scipy.stats` is represented as an object. Here it's the normal\n",
    "distribution, and it comes with a PDF, a CDF, and much more.\n",
    "\n",
    "If we know that the random process belongs to a given family of random\n",
    "processes, such as normal processes, we can do a maximum-likelihood fit\n",
    "of the observations to estimate the parameters of the underlying\n",
    "distribution. Here we fit a normal process to the observed data:"
   ]
  },
  {
   "cell_type": "code",
   "execution_count": null,
   "id": "d2844583",
   "metadata": {},
   "outputs": [
    {
     "data": {
      "text/plain": [
       "-0.045256707..."
      ]
     },
     "execution_count": 1,
     "metadata": {},
     "output_type": "execute_result"
    }
   ],
   "source": [
    "loc, std = sp.stats.norm.fit(samples)\n",
    "loc     # doctest: +ELLIPSIS"
   ]
  },
  {
   "cell_type": "code",
   "execution_count": null,
   "id": "e089f28d",
   "metadata": {},
   "outputs": [
    {
     "data": {
      "text/plain": [
       "0.9870331586..."
      ]
     },
     "execution_count": 1,
     "metadata": {},
     "output_type": "execute_result"
    }
   ],
   "source": [
    "std     # doctest: +ELLIPSIS"
   ]
  },
  {
   "cell_type": "markdown",
   "id": "1756d789",
   "metadata": {},
   "source": [
    "**Exercise: Probability distributions**\n",
    "\n",
    "Generate 1000 random variates from a gamma distribution with a shape\n",
    "parameter of 1, then plot a histogram from those samples. Can you plot\n",
    "the pdf on top (it should match)?\n",
    "\n",
    "Extra: the distributions have many useful methods. Explore them by\n",
    "reading the docstring or by using tab completion. Can you recover the\n",
    "shape parameter 1 by using the `fit` method on your random variates?\n",
    "\n",
    "### Mean, median and percentiles\n",
    "\n",
    "The mean is an estimator of the center of the distribution:"
   ]
  },
  {
   "cell_type": "code",
   "execution_count": null,
   "id": "b1cc6364",
   "metadata": {},
   "outputs": [
    {
     "data": {
      "text/plain": [
       "-0.0452567074..."
      ]
     },
     "execution_count": 1,
     "metadata": {},
     "output_type": "execute_result"
    }
   ],
   "source": [
    "np.mean(samples)     # doctest: +ELLIPSIS"
   ]
  },
  {
   "cell_type": "markdown",
   "id": "21e101a0",
   "metadata": {},
   "source": [
    "The median another estimator of the center. It is the value with half of\n",
    "the observations below, and half above:"
   ]
  },
  {
   "cell_type": "code",
   "execution_count": null,
   "id": "75b26acd",
   "metadata": {},
   "outputs": [
    {
     "data": {
      "text/plain": [
       "-0.0580280347..."
      ]
     },
     "execution_count": 1,
     "metadata": {},
     "output_type": "execute_result"
    }
   ],
   "source": [
    "np.median(samples)     # doctest: +ELLIPSIS"
   ]
  },
  {
   "cell_type": "markdown",
   "id": "789cb541",
   "metadata": {},
   "source": [
    "Tip\n",
    "\n",
    "Unlike the mean, the median is not sensitive to the tails of the\n",
    "distribution. It is\n",
    "[\"robust\"](https://en.wikipedia.org/wiki/Robust_statistics).\n",
    "\n",
    "**Exercise: Compare mean and median on samples of a Gamma distribution**\n",
    "\n",
    "Which one seems to be the best estimator of the center for the Gamma\n",
    "distribution?\n",
    "\n",
    "The median is also the percentile 50, because 50% of the observation are\n",
    "below it:"
   ]
  },
  {
   "cell_type": "code",
   "execution_count": null,
   "id": "ee608554",
   "metadata": {},
   "outputs": [
    {
     "data": {
      "text/plain": [
       "-0.0580280347..."
      ]
     },
     "execution_count": 1,
     "metadata": {},
     "output_type": "execute_result"
    }
   ],
   "source": [
    "sp.stats.scoreatpercentile(samples, 50)     # doctest: +ELLIPSIS"
   ]
  },
  {
   "cell_type": "markdown",
   "id": "18b6beed",
   "metadata": {},
   "source": [
    "Similarly, we can calculate the percentile 90:"
   ]
  },
  {
   "cell_type": "code",
   "execution_count": null,
   "id": "00f39370",
   "metadata": {},
   "outputs": [
    {
     "data": {
      "text/plain": [
       "1.2315935511..."
      ]
     },
     "execution_count": 1,
     "metadata": {},
     "output_type": "execute_result"
    }
   ],
   "source": [
    "sp.stats.scoreatpercentile(samples, 90)     # doctest: +ELLIPSIS"
   ]
  },
  {
   "cell_type": "markdown",
   "id": "7050e311",
   "metadata": {},
   "source": [
    "Tip\n",
    "\n",
    "The percentile is an estimator of the CDF: cumulative distribution\n",
    "function.\n",
    "\n",
    "### Statistical tests\n",
    "\n",
    "[<img src=\"auto_examples/images/sphx_glr_plot_t_test_001.png\" alt=\"image\" class=\"align-right\" />](auto_examples/plot_t_test.html)\n",
    "\n",
    "A statistical test is a decision indicator. For instance, if we have two\n",
    "sets of observations, that we assume are generated from Gaussian\n",
    "processes, we can use a\n",
    "[T-test](https://en.wikipedia.org/wiki/Student%27s_t-test) to decide\n",
    "whether the means of two sets of observations are significantly\n",
    "different:"
   ]
  },
  {
   "cell_type": "code",
   "execution_count": null,
   "id": "786dedf5",
   "metadata": {},
   "outputs": [
    {
     "data": {
      "text/plain": [
       "(array(-3.177574054...), 0.0019370639...)"
      ]
     },
     "execution_count": 1,
     "metadata": {},
     "output_type": "execute_result"
    }
   ],
   "source": [
    "a = np.random.normal(0, 1, size=100)\n",
    "b = np.random.normal(1, 1, size=10)\n",
    "sp.stats.ttest_ind(a, b)   # doctest: +SKIP"
   ]
  },
  {
   "cell_type": "markdown",
   "id": "326494e2",
   "metadata": {},
   "source": [
    "Tip\n",
    "\n",
    "The resulting output is composed of:\n",
    "\n",
    "-   The T statistic value: it is a number the sign of which is\n",
    "    proportional to the difference between the two random processes and\n",
    "    the magnitude is related to the significance of this difference.\n",
    "-   the *p value*: the probability of both processes being identical. If\n",
    "    it is close to 1, the two process are almost certainly identical.\n",
    "    The closer it is to zero, the more likely it is that the processes\n",
    "    have different means.\n",
    "\n",
    "The chapter on [statistics](statistics.ipynb) introduces much more\n",
    "elaborate tools for statistical testing and statistical data loading and\n",
    "visualization outside of scipy.\n",
    "\n",
    "## Numerical integration: `scipy.integrate`\n",
    "\n",
    "### Function integrals\n",
    "\n",
    "The most generic integration routine is `scipy.integrate.quad`. To\n",
    "compute $\\int_0^{\\pi / 2} sin(t) dt$ :"
   ]
  },
  {
   "cell_type": "code",
   "execution_count": null,
   "id": "6f7d1773",
   "metadata": {},
   "outputs": [
    {
     "data": {
      "text/plain": [
       "True"
      ]
     },
     "execution_count": 1,
     "metadata": {},
     "output_type": "execute_result"
    }
   ],
   "source": [
    "res, err = sp.integrate.quad(np.sin, 0, np.pi/2)\n",
    "np.allclose(res, 1)   # res is the result, is should be close to 1"
   ]
  },
  {
   "cell_type": "code",
   "execution_count": null,
   "id": "4a09126c",
   "metadata": {},
   "outputs": [
    {
     "data": {
      "text/plain": [
       "True"
      ]
     },
     "execution_count": 1,
     "metadata": {},
     "output_type": "execute_result"
    }
   ],
   "source": [
    "np.allclose(err, 1 - res)  # err is an estimate of the err"
   ]
  },
  {
   "cell_type": "markdown",
   "id": "da5430dd",
   "metadata": {},
   "source": [
    "Other integration schemes are available: `scipy.integrate.fixed_quad`,\n",
    "`scipy.integrate.quadrature`, `scipy.integrate.romberg`...\n",
    "\n",
    "### Integrating differential equations\n",
    "\n",
    "`scipy.integrate` also features routines for integrating [Ordinary\n",
    "Differential Equations\n",
    "(ODE)](https://en.wikipedia.org/wiki/Ordinary_differential_equation). In\n",
    "particular, `scipy.integrate.solve_ivp` solves ODE of the form:"
   ]
  },
  {
   "cell_type": "code",
   "execution_count": null,
   "id": "ebe71ef7",
   "metadata": {},
   "outputs": [],
   "source": [
    "dy/dt = rhs(t, y)"
   ]
  },
  {
   "cell_type": "markdown",
   "id": "d7dff447",
   "metadata": {},
   "source": [
    "Note\n",
    "\n",
    "For a long time, the go-to method for solving an ODE was\n",
    "`scipy.integrate.odeint`. The SciPy project recommends using\n",
    "`scipy.integrate.solve_ivp` instead.\n",
    "\n",
    "As an introduction, let us solve the ODE $\\frac{dy}{dt} = -2 y$ between\n",
    "$t = 0 \\dots 4$, with the initial condition $y(t=0) = 1$. First the\n",
    "function computing the derivative of the position needs to be defined:"
   ]
  },
  {
   "cell_type": "code",
   "execution_count": null,
   "id": "a67756c9",
   "metadata": {},
   "outputs": [],
   "source": [
    "def calc_derivative(time, ypos):\n",
    "    return -2 * ypos"
   ]
  },
  {
   "cell_type": "markdown",
   "id": "de50ae0a",
   "metadata": {},
   "source": [
    "[<img src=\"auto_examples/images/sphx_glr_plot_solve_ivp_simple_001.png\" alt=\"image\" class=\"align-right\" />](auto_examples/plot_solve_ivp_simple.html)\n",
    "\n",
    "Then, to compute `y` as a function of time:"
   ]
  },
  {
   "cell_type": "code",
   "execution_count": null,
   "id": "a13fcc70",
   "metadata": {},
   "outputs": [],
   "source": [
    "solution = sp.integrate.solve_ivp(calc_derivative, (0, 4), y0=(1,))"
   ]
  },
  {
   "cell_type": "markdown",
   "id": "5e3befdb",
   "metadata": {},
   "source": [
    "<div style=\"clear: both\"></div>\n",
    "\n",
    "Let us integrate a more complex ODE: a [damped spring-mass\n",
    "oscillator](https://en.wikipedia.org/wiki/Harmonic_oscillator#Damped_harmonic_oscillator).\n",
    "The position of a mass attached to a spring obeys the 2nd order *ODE*\n",
    "$y'' + 2 \\varepsilon \\omega_0  y' + \\omega_0^2 y = 0$ with\n",
    "$\\omega_0^2 = k/m$ with $k$ the spring constant, $m$ the mass and\n",
    "$\\varepsilon = c/(2 m \\omega_0)$ with $c$ the damping coefficient. We\n",
    "set:"
   ]
  },
  {
   "cell_type": "code",
   "execution_count": null,
   "id": "f41f53eb",
   "metadata": {},
   "outputs": [],
   "source": [
    "mass = 0.5  # kg\n",
    "kspring = 4  # N/m\n",
    "cviscous = 0.4  # N s/m"
   ]
  },
  {
   "cell_type": "markdown",
   "id": "316cc53d",
   "metadata": {},
   "source": [
    "Hence:"
   ]
  },
  {
   "cell_type": "code",
   "execution_count": null,
   "id": "d1d3bab0",
   "metadata": {},
   "outputs": [],
   "source": [
    "eps = cviscous / (2 * mass * np.sqrt(kspring/mass))\n",
    "omega = np.sqrt(kspring / mass)"
   ]
  },
  {
   "cell_type": "markdown",
   "id": "e477420d",
   "metadata": {},
   "source": [
    "The system is underdamped, as:"
   ]
  },
  {
   "cell_type": "code",
   "execution_count": null,
   "id": "039a4f3d",
   "metadata": {},
   "outputs": [
    {
     "data": {
      "text/plain": [
       "True"
      ]
     },
     "execution_count": 1,
     "metadata": {},
     "output_type": "execute_result"
    }
   ],
   "source": [
    "eps < 1"
   ]
  },
  {
   "cell_type": "markdown",
   "id": "dc15c6ad",
   "metadata": {},
   "source": [
    "For `~scipy.integrate.solve_ivp`, the 2nd order equation needs to be\n",
    "transformed in a system of two first-order equations for the vector\n",
    "$Y = (y, y')$ : the function computes the velocity and acceleration:"
   ]
  },
  {
   "cell_type": "code",
   "execution_count": null,
   "id": "57a222ad",
   "metadata": {},
   "outputs": [],
   "source": [
    "def calc_deri(time, yvec, eps, omega):\n",
    "    return (yvec[1], -2.0 * eps * omega * yvec[1] - omega **2 * yvec[0])"
   ]
  },
  {
   "cell_type": "markdown",
   "id": "d6a233b3",
   "metadata": {},
   "source": [
    "[<img src=\"auto_examples/images/sphx_glr_plot_solve_ivp_damped_spring_mass_001.png\" alt=\"image\" class=\"align-right\" />](auto_examples/plot_solve_ivp_damped_spring_mass.html)\n",
    "\n",
    "Integration of the system follows:"
   ]
  },
  {
   "cell_type": "code",
   "execution_count": null,
   "id": "2aa14af5",
   "metadata": {},
   "outputs": [],
   "source": [
    "time_vec = np.linspace(0, 10, 100)\n",
    "yinit = (1, 0)\n",
    "solution = sp.integrate.solve_ivp(calc_deri, (0, 10), yinit, args=(eps, omega), method='LSODA')"
   ]
  },
  {
   "cell_type": "markdown",
   "id": "4985e584",
   "metadata": {},
   "source": [
    "<div style=\"clear: both\"></div>\n",
    "\n",
    "Tip\n",
    "\n",
    "With the option $method='LSODA'$, `scipy.integrate.solve_ivp` uses the\n",
    "LSODA (Livermore Solver for Ordinary Differential equations with\n",
    "Automatic method switching for stiff and non-stiff problems), see the\n",
    "[ODEPACK Fortran library]() for more details.\n",
    "\n",
    "**Partial Differental Equations**\n",
    "\n",
    "There is no Partial Differential Equations (PDE) solver in Scipy. Some\n",
    "Python packages for solving PDE's are available, such as\n",
    "[fipy](https://www.ctcms.nist.gov/fipy/) or\n",
    "[SfePy](https://sfepy.org/doc/).\n",
    "\n",
    "## Fast Fourier transforms: `scipy.fftpack`\n",
    "\n",
    "The `scipy.fftpack` module computes fast Fourier transforms (FFTs) and\n",
    "offers utilities to handle them. The main functions are:\n",
    "\n",
    "-   `scipy.fftpack.fft` to compute the FFT\n",
    "-   `scipy.fftpack.fftfreq` to generate the sampling frequencies\n",
    "-   `scipy.fftpack.ifft` computes the inverse FFT, from frequency space\n",
    "    to signal space\n",
    "\n",
    "As an illustration, a (noisy) input signal (`sig`), and its FFT:"
   ]
  },
  {
   "cell_type": "code",
   "execution_count": null,
   "id": "5e9956e5",
   "metadata": {},
   "outputs": [],
   "source": [
    "sig_fft = sp.fftpack.fft(sig) # doctest:+SKIP\n",
    "freqs = sp.fftpack.fftfreq(sig.size, d=time_step) # doctest:+SKIP"
   ]
  },
  {
   "cell_type": "markdown",
   "id": "8963dd74",
   "metadata": {},
   "source": [
    "| [![signal\\_fig](auto_examples/images/sphx_glr_plot_fftpack_001.png)](auto_examples/plot_fftpack.html) | [![fft\\_fig](auto_examples/images/sphx_glr_plot_fftpack_002.png)](auto_examples/plot_fftpack.html) |\n",
    "|-------------------------------------------------------------------------------------------------------|----------------------------------------------------------------------------------------------------|\n",
    "| **Signal**                                                                                            | **FFT**                                                                                            |\n",
    "\n",
    "As the signal comes from a real function, the Fourier transform is\n",
    "symmetric.\n",
    "\n",
    "The peak signal frequency can be found with `freqs[power.argmax()]`\n",
    "\n",
    "[<img src=\"auto_examples/images/sphx_glr_plot_fftpack_003.png\" alt=\"image\" class=\"align-right\" />](auto_examples/plot_fftpack.html)\n",
    "\n",
    "Setting the Fourrier component above this frequency to zero and\n",
    "inverting the FFT with `scipy.fftpack.ifft`, gives a filtered signal.\n",
    "\n",
    "Note\n",
    "\n",
    "The code of this example can be found\n",
    "`here <sphx_glr_intro_scipy_auto_examples_plot_fftpack.py>`\n",
    "\n",
    "**$numpy.fft$**\n",
    "\n",
    "Numpy also has an implementation of FFT (`numpy.fft`). However, the\n",
    "scipy one should be preferred, as it uses more efficient underlying\n",
    "implementations.\n",
    "\n",
    "**Fully worked examples:**\n",
    "\n",
    "| Crude periodicity finding (`link <sphx_glr_intro_scipy_auto_examples_solutions_plot_periodicity_finder.py>`)                                             | Gaussian image blur (`link <sphx_glr_intro_scipy_auto_examples_solutions_plot_image_blur.py>`)                                  |\n",
    "|----------------------------------------------------------------------------------------------------------------------------------------------------------|---------------------------------------------------------------------------------------------------------------------------------|\n",
    "| [![periodicity\\_finding](auto_examples/solutions/images/sphx_glr_plot_periodicity_finder_001.png)](auto_examples/solutions/plot_periodicity_finder.html) | [![image\\_blur](auto_examples/solutions/images/sphx_glr_plot_image_blur_002.png)](auto_examples/solutions/plot_image_blur.html) |\n",
    "\n",
    "**Exercise: Denoise moon landing image**\n",
    "\n",
    "![image](../../data/moonlanding.png)\n",
    "\n",
    "1.  Examine the provided image `moonlanding.png\n",
    "    <../../data/moonlanding.png>`, which is heavily contaminated with\n",
    "    periodic noise. In this exercise, we aim to clean up the noise using\n",
    "    the Fast Fourier Transform.\n",
    "2.  Load the image using `matplotlib.pyplot.imread`.\n",
    "3.  Find and use the 2-D FFT function in `scipy.fftpack`, and plot the\n",
    "    spectrum (Fourier transform of) the image. Do you have any trouble\n",
    "    visualising the spectrum? If so, why?\n",
    "4.  The spectrum consists of high and low frequency components. The\n",
    "    noise is contained in the high-frequency part of the spectrum, so\n",
    "    set some of those components to zero (use array slicing).\n",
    "5.  Apply the inverse Fourier transform to see the resulting image.\n",
    "\n",
    "`Solution <sphx_glr_intro_scipy_auto_examples_solutions_plot_fft_image_denoise.py>`\n",
    "\n",
    "## Signal processing: `scipy.signal`\n",
    "\n",
    "Tip\n",
    "\n",
    "`scipy.signal` is for typical signal processing: 1D, regularly-sampled\n",
    "signals.\n",
    "\n",
    "[<img src=\"auto_examples/images/sphx_glr_plot_resample_001.png\" alt=\"image\" class=\"align-right\" />](auto_examples/plot_resample.html)\n",
    "\n",
    "**Resampling** `scipy.signal.resample` : resample a signal to $n$ points\n",
    "using FFT. :"
   ]
  },
  {
   "cell_type": "code",
   "execution_count": null,
   "id": "abbcff6a",
   "metadata": {},
   "outputs": [],
   "source": [
    "t = np.linspace(0, 5, 100)\n",
    "x = np.sin(t)"
   ]
  },
  {
   "cell_type": "code",
   "execution_count": null,
   "id": "1eab020f",
   "metadata": {},
   "outputs": [],
   "source": [
    "x_resampled = sp.signal.resample(x, 25)"
   ]
  },
  {
   "cell_type": "code",
   "execution_count": null,
   "id": "7747be51",
   "metadata": {},
   "outputs": [
    {
     "data": {
      "text/plain": [
       "[<matplotlib.lines.Line2D object at ...>]"
      ]
     },
     "execution_count": 1,
     "metadata": {},
     "output_type": "execute_result"
    }
   ],
   "source": [
    "plt.plot(t, x) # doctest: +ELLIPSIS"
   ]
  },
  {
   "cell_type": "code",
   "execution_count": null,
   "id": "dd7aa93a",
   "metadata": {},
   "outputs": [
    {
     "data": {
      "text/plain": [
       "[<matplotlib.lines.Line2D object at ...>]"
      ]
     },
     "execution_count": 1,
     "metadata": {},
     "output_type": "execute_result"
    }
   ],
   "source": [
    "plt.plot(t[::4], x_resampled, 'ko') # doctest: +ELLIPSIS"
   ]
  },
  {
   "cell_type": "markdown",
   "id": "27574334",
   "metadata": {},
   "source": [
    "Tip\n",
    "\n",
    "Notice how on the side of the window the resampling is less accurate and\n",
    "has a rippling effect.\n",
    "\n",
    "This resampling is different from the `interpolation\n",
    "<intro_scipy_interpolate>` provided by `scipy.interpolate` as it only\n",
    "applies to regularly sampled data.\n",
    "\n",
    "[<img src=\"auto_examples/images/sphx_glr_plot_detrend_001.png\" alt=\"image\" class=\"align-right\" />](auto_examples/plot_detrend.html)\n",
    "\n",
    "**Detrending** `scipy.signal.detrend` : remove linear trend from signal:"
   ]
  },
  {
   "cell_type": "code",
   "execution_count": null,
   "id": "9ba6a9c7",
   "metadata": {},
   "outputs": [],
   "source": [
    "t = np.linspace(0, 5, 100)\n",
    "x = t + np.random.normal(size=100)"
   ]
  },
  {
   "cell_type": "code",
   "execution_count": null,
   "id": "bccb08b8",
   "metadata": {},
   "outputs": [],
   "source": [
    "x_detrended = sp.signal.detrend(x)"
   ]
  },
  {
   "cell_type": "code",
   "execution_count": null,
   "id": "3989f394",
   "metadata": {},
   "outputs": [
    {
     "data": {
      "text/plain": [
       "[<matplotlib.lines.Line2D object at ...>]"
      ]
     },
     "execution_count": 1,
     "metadata": {},
     "output_type": "execute_result"
    }
   ],
   "source": [
    "plt.plot(t, x) # doctest: +ELLIPSIS"
   ]
  },
  {
   "cell_type": "code",
   "execution_count": null,
   "id": "288d1d9d",
   "metadata": {},
   "outputs": [
    {
     "data": {
      "text/plain": [
       "[<matplotlib.lines.Line2D object at ...>]"
      ]
     },
     "execution_count": 1,
     "metadata": {},
     "output_type": "execute_result"
    }
   ],
   "source": [
    "plt.plot(t, x_detrended) # doctest: +ELLIPSIS"
   ]
  },
  {
   "cell_type": "markdown",
   "id": "0ac77086",
   "metadata": {},
   "source": [
    "<div style=\"clear: both\"></div>\n",
    "\n",
    "**Filtering**: For non-linear filtering, `scipy.signal` has filtering\n",
    "(median filter `scipy.signal.medfilt`, Wiener `scipy.signal.wiener`),\n",
    "but we will discuss this in the image section.\n",
    "\n",
    "Tip\n",
    "\n",
    "`scipy.signal` also has a full-blown set of tools for the design of\n",
    "linear filter (finite and infinite response filters), but this is out of\n",
    "the scope of this tutorial.\n",
    "\n",
    "**Spectral analysis**: `scipy.signal.spectrogram` compute a spectrogram\n",
    "--frequency spectrums over consecutive time windows--, while\n",
    "`scipy.signal.welch` comptes a power spectrum density (PSD).\n",
    "\n",
    "[![chirp\\_fig](auto_examples/images/sphx_glr_plot_spectrogram_001.png)](auto_examples/plot_spectrogram.html)\n",
    "[![spectrogram\\_fig](auto_examples/images/sphx_glr_plot_spectrogram_002.png)](auto_examples/plot_spectrogram.html)\n",
    "[![psd\\_fig](auto_examples/images/sphx_glr_plot_spectrogram_003.png)](auto_examples/plot_spectrogram.html)\n",
    "\n",
    "## Image manipulation: `scipy.ndimage`\n",
    "\n",
    "orphan  \n",
    "\n",
    "`scipy.ndimage` provides manipulation of n-dimensional arrays as images.\n",
    "\n",
    "### Geometrical transformations on images\n",
    "\n",
    "Changing orientation, resolution, .. :"
   ]
  },
  {
   "cell_type": "code",
   "execution_count": null,
   "id": "35012edf",
   "metadata": {},
   "outputs": [],
   "source": [
    "import scipy as sp"
   ]
  },
  {
   "cell_type": "code",
   "execution_count": null,
   "id": "f31bbc6e",
   "metadata": {},
   "outputs": [],
   "source": [
    "# Load an image\n",
    "face = sp.misc.face(gray=True)"
   ]
  },
  {
   "cell_type": "code",
   "execution_count": null,
   "id": "9af0237d",
   "metadata": {},
   "outputs": [
    {
     "data": {
      "text/plain": [
       "(1536, 2048)"
      ]
     },
     "execution_count": 1,
     "metadata": {},
     "output_type": "execute_result"
    }
   ],
   "source": [
    "# Shift, roate and zoom it\n",
    "shifted_face = sp.ndimage.shift(face, (50, 50))\n",
    "shifted_face2 = sp.ndimage.shift(face, (50, 50), mode='nearest')\n",
    "rotated_face = sp.ndimage.rotate(face, 30)\n",
    "cropped_face = face[50:-50, 50:-50]\n",
    "zoomed_face = sp.ndimage.zoom(face, 2)\n",
    "zoomed_face.shape"
   ]
  },
  {
   "cell_type": "markdown",
   "id": "ce0f1502",
   "metadata": {},
   "source": [
    "[<img src=\"/intro/scipy/auto_examples/images/sphx_glr_plot_image_transform_001.png\" alt=\"image\" class=\"align-center\" />](auto_examples/plot_image_transform.html)"
   ]
  },
  {
   "cell_type": "code",
   "execution_count": null,
   "id": "d98f4e38",
   "metadata": {},
   "outputs": [
    {
     "data": {
      "text/plain": [
       "<AxesSubplot: >\n"
      ]
     },
     "execution_count": 1,
     "metadata": {},
     "output_type": "execute_result"
    }
   ],
   "source": [
    "plt.subplot(151)    # doctest: +ELLIPSIS"
   ]
  },
  {
   "cell_type": "code",
   "execution_count": null,
   "id": "d98cd70a",
   "metadata": {},
   "outputs": [
    {
     "data": {
      "text/plain": [
       "<matplotlib.image.AxesImage object at 0x...>\n"
      ]
     },
     "execution_count": 1,
     "metadata": {},
     "output_type": "execute_result"
    }
   ],
   "source": [
    "plt.imshow(shifted_face, cmap=plt.cm.gray)    # doctest: +ELLIPSIS"
   ]
  },
  {
   "cell_type": "code",
   "execution_count": null,
   "id": "f807019d",
   "metadata": {},
   "outputs": [
    {
     "data": {
      "text/plain": [
       "(-0.5, 1023.5, 767.5, -0.5)\n"
      ]
     },
     "execution_count": 1,
     "metadata": {},
     "output_type": "execute_result"
    }
   ],
   "source": [
    "plt.axis('off')"
   ]
  },
  {
   "cell_type": "code",
   "execution_count": null,
   "id": "a488f665",
   "metadata": {},
   "outputs": [],
   "source": [
    "# etc."
   ]
  },
  {
   "cell_type": "markdown",
   "id": "def254dc",
   "metadata": {},
   "source": [
    "### Image filtering\n",
    "\n",
    "Generate a noisy face:"
   ]
  },
  {
   "cell_type": "code",
   "execution_count": null,
   "id": "d4190c13",
   "metadata": {},
   "outputs": [],
   "source": [
    "import scipy as sp\n",
    "face = sp.misc.face(gray=True)\n",
    "face = face[:512, -512:]  # crop out square on right\n",
    "import numpy as np\n",
    "noisy_face = np.copy(face).astype(float)\n",
    "noisy_face += face.std() * 0.5 * np.random.standard_normal(face.shape)"
   ]
  },
  {
   "cell_type": "markdown",
   "id": "646c7b36",
   "metadata": {},
   "source": [
    "Apply a variety of filters on it:"
   ]
  },
  {
   "cell_type": "code",
   "execution_count": null,
   "id": "aa2e9b5f",
   "metadata": {},
   "outputs": [],
   "source": [
    "blurred_face = sp.ndimage.gaussian_filter(noisy_face, sigma=3)\n",
    "median_face = sp.ndimage.median_filter(noisy_face, size=5)\n",
    "wiener_face = sp.signal.wiener(noisy_face, (5, 5))"
   ]
  },
  {
   "cell_type": "markdown",
   "id": "9b3b4296",
   "metadata": {},
   "source": [
    "[<img src=\"/intro/scipy/auto_examples/images/sphx_glr_plot_image_filters_001.png\" alt=\"image\" class=\"align-center\" />](auto_examples/plot_image_filters.html)\n",
    "\n",
    "Other filters in `scipy.ndimage.filters` and `scipy.signal` can be\n",
    "applied to images.\n",
    "\n",
    "**Exercise**\n",
    "\n",
    "Compare histograms for the different filtered images.\n",
    "\n",
    "### Mathematical morphology\n",
    "\n",
    "Tip\n",
    "\n",
    "[Mathematical\n",
    "morphology](https://en.wikipedia.org/wiki/Mathematical_morphology) stems\n",
    "from set theory. It characterizes and transforms geometrical structures.\n",
    "Binary (black and white) images, in particular, can be transformed using\n",
    "this theory: the sets to be transformed are the sets of neighboring\n",
    "non-zero-valued pixels. The theory was also extended to gray-valued\n",
    "images.\n",
    "\n",
    "<img src=\"/intro/scipy/image_processing/morpho_mat.png\" alt=\"image\" class=\"align-center\" />\n",
    "\n",
    "Mathematical-morphology operations use a *structuring element* in order\n",
    "to modify geometrical structures.\n",
    "\n",
    "Let us first generate a structuring element:"
   ]
  },
  {
   "cell_type": "code",
   "execution_count": null,
   "id": "ae217586",
   "metadata": {},
   "outputs": [
    {
     "data": {
      "text/plain": [
       "array([[False, True, False],\n",
       "       [...True, True, True],\n",
       "       [False, True, False]])"
      ]
     },
     "execution_count": 1,
     "metadata": {},
     "output_type": "execute_result"
    }
   ],
   "source": [
    "el = sp.ndimage.generate_binary_structure(2, 1)\n",
    "el # doctest: +NORMALIZE_WHITESPACE +ELLIPSIS"
   ]
  },
  {
   "cell_type": "code",
   "execution_count": null,
   "id": "54856e5b",
   "metadata": {},
   "outputs": [
    {
     "data": {
      "text/plain": [
       "array([[0, 1, 0],\n",
       "       [1, 1, 1],\n",
       "       [0, 1, 0]])"
      ]
     },
     "execution_count": 1,
     "metadata": {},
     "output_type": "execute_result"
    }
   ],
   "source": [
    "el.astype(int)"
   ]
  },
  {
   "cell_type": "markdown",
   "id": "c8253c2e",
   "metadata": {},
   "source": [
    "-   **Erosion** `scipy.ndimage.binary_erosion` :"
   ]
  },
  {
   "cell_type": "code",
   "execution_count": null,
   "id": "86424be7",
   "metadata": {},
   "outputs": [
    {
     "data": {
      "text/plain": [
       "array([[0, 0, 0, 0, 0, 0, 0],\n",
       "       [0, 0, 1, 1, 1, 0, 0],\n",
       "       [0, 0, 1, 1, 1, 0, 0],\n",
       "       [0, 0, 1, 1, 1, 0, 0],\n",
       "       [0, 0, 1, 1, 1, 0, 0],\n",
       "       [0, 0, 1, 1, 1, 0, 0],\n",
       "       [0, 0, 0, 0, 0, 0, 0]])"
      ]
     },
     "execution_count": 1,
     "metadata": {},
     "output_type": "execute_result"
    }
   ],
   "source": [
    "    a = np.zeros((7, 7), dtype=int)\n",
    "    a[1:6, 2:5] = 1\n",
    "    a"
   ]
  },
  {
   "cell_type": "code",
   "execution_count": null,
   "id": "d1a567cd",
   "metadata": {},
   "outputs": [
    {
     "data": {
      "text/plain": [
       "array([[0, 0, 0, 0, 0, 0, 0],\n",
       "       [0, 0, 0, 0, 0, 0, 0],\n",
       "       [0, 0, 0, 1, 0, 0, 0],\n",
       "       [0, 0, 0, 1, 0, 0, 0],\n",
       "       [0, 0, 0, 1, 0, 0, 0],\n",
       "       [0, 0, 0, 0, 0, 0, 0],\n",
       "       [0, 0, 0, 0, 0, 0, 0]])"
      ]
     },
     "execution_count": 1,
     "metadata": {},
     "output_type": "execute_result"
    }
   ],
   "source": [
    "    sp.ndimage.binary_erosion(a).astype(a.dtype)"
   ]
  },
  {
   "cell_type": "code",
   "execution_count": null,
   "id": "4920ff9c",
   "metadata": {},
   "outputs": [
    {
     "data": {
      "text/plain": [
       "array([[0, 0, 0, 0, 0, 0, 0],\n",
       "       [0, 0, 0, 0, 0, 0, 0],\n",
       "       [0, 0, 0, 0, 0, 0, 0],\n",
       "       [0, 0, 0, 0, 0, 0, 0],\n",
       "       [0, 0, 0, 0, 0, 0, 0],\n",
       "       [0, 0, 0, 0, 0, 0, 0],\n",
       "       [0, 0, 0, 0, 0, 0, 0]])"
      ]
     },
     "execution_count": 1,
     "metadata": {},
     "output_type": "execute_result"
    }
   ],
   "source": [
    "    # Erosion removes objects smaller than the structure\n",
    "    sp.ndimage.binary_erosion(a, structure=np.ones((5,5))).astype(a.dtype)"
   ]
  },
  {
   "cell_type": "markdown",
   "id": "5c8e71aa",
   "metadata": {},
   "source": [
    "-   **Dilation** `scipy.ndimage.binary_dilation` :"
   ]
  },
  {
   "cell_type": "code",
   "execution_count": null,
   "id": "87c64a7d",
   "metadata": {},
   "outputs": [
    {
     "data": {
      "text/plain": [
       "array([[0.,  0.,  0.,  0.,  0.],\n",
       "       [0.,  0.,  0.,  0.,  0.],\n",
       "       [0.,  0.,  1.,  0.,  0.],\n",
       "       [0.,  0.,  0.,  0.,  0.],\n",
       "       [0.,  0.,  0.,  0.,  0.]])"
      ]
     },
     "execution_count": 1,
     "metadata": {},
     "output_type": "execute_result"
    }
   ],
   "source": [
    "    a = np.zeros((5, 5))\n",
    "    a[2, 2] = 1\n",
    "    a"
   ]
  },
  {
   "cell_type": "code",
   "execution_count": null,
   "id": "cb4704c5",
   "metadata": {},
   "outputs": [
    {
     "data": {
      "text/plain": [
       "array([[0.,  0.,  0.,  0.,  0.],\n",
       "       [0.,  0.,  1.,  0.,  0.],\n",
       "       [0.,  1.,  1.,  1.,  0.],\n",
       "       [0.,  0.,  1.,  0.,  0.],\n",
       "       [0.,  0.,  0.,  0.,  0.]])"
      ]
     },
     "execution_count": 1,
     "metadata": {},
     "output_type": "execute_result"
    }
   ],
   "source": [
    "    sp.ndimage.binary_dilation(a).astype(a.dtype)"
   ]
  },
  {
   "cell_type": "markdown",
   "id": "a1552483",
   "metadata": {},
   "source": [
    "-   **Opening** `scipy.ndimage.binary_opening` :"
   ]
  },
  {
   "cell_type": "code",
   "execution_count": null,
   "id": "e681844a",
   "metadata": {},
   "outputs": [
    {
     "data": {
      "text/plain": [
       "array([[0, 0, 0, 0, 0],\n",
       "       [0, 1, 1, 1, 0],\n",
       "       [0, 1, 1, 1, 0],\n",
       "       [0, 1, 1, 1, 0],\n",
       "       [0, 0, 0, 0, 1]])"
      ]
     },
     "execution_count": 1,
     "metadata": {},
     "output_type": "execute_result"
    }
   ],
   "source": [
    "    a = np.zeros((5, 5), dtype=int)\n",
    "    a[1:4, 1:4] = 1\n",
    "    a[4, 4] = 1\n",
    "    a"
   ]
  },
  {
   "cell_type": "code",
   "execution_count": null,
   "id": "17b3424e",
   "metadata": {},
   "outputs": [
    {
     "data": {
      "text/plain": [
       "array([[0, 0, 0, 0, 0],\n",
       "       [0, 1, 1, 1, 0],\n",
       "       [0, 1, 1, 1, 0],\n",
       "       [0, 1, 1, 1, 0],\n",
       "       [0, 0, 0, 0, 0]])"
      ]
     },
     "execution_count": 1,
     "metadata": {},
     "output_type": "execute_result"
    }
   ],
   "source": [
    "    # Opening removes small objects\n",
    "    sp.ndimage.binary_opening(a, structure=np.ones((3, 3))).astype(int)"
   ]
  },
  {
   "cell_type": "code",
   "execution_count": null,
   "id": "ea2861f3",
   "metadata": {},
   "outputs": [
    {
     "data": {
      "text/plain": [
       "array([[0, 0, 0, 0, 0],\n",
       "       [0, 0, 1, 0, 0],\n",
       "       [0, 1, 1, 1, 0],\n",
       "       [0, 0, 1, 0, 0],\n",
       "       [0, 0, 0, 0, 0]])"
      ]
     },
     "execution_count": 1,
     "metadata": {},
     "output_type": "execute_result"
    }
   ],
   "source": [
    "    # Opening can also smooth corners\n",
    "    sp.ndimage.binary_opening(a).astype(int)"
   ]
  },
  {
   "cell_type": "markdown",
   "id": "c38a5737",
   "metadata": {},
   "source": [
    "-   **Closing:** `scipy.ndimage.binary_closing`\n",
    "\n",
    "**Exercise**\n",
    "\n",
    "Check that opening amounts to eroding, then dilating.\n",
    "\n",
    "An opening operation removes small structures, while a closing operation\n",
    "fills small holes. Such operations can therefore be used to \"clean\" an\n",
    "image. :"
   ]
  },
  {
   "cell_type": "code",
   "execution_count": null,
   "id": "3c4318d5",
   "metadata": {},
   "outputs": [],
   "source": [
    "a = np.zeros((50, 50))\n",
    "a[10:-10, 10:-10] = 1\n",
    "a += 0.25 * np.random.standard_normal(a.shape)\n",
    "mask = a>=0.5\n",
    "opened_mask = sp.ndimage.binary_opening(mask)\n",
    "closed_mask = sp.ndimage.binary_closing(opened_mask)"
   ]
  },
  {
   "cell_type": "markdown",
   "id": "291870c2",
   "metadata": {},
   "source": [
    "[<img src=\"/intro/scipy/auto_examples/images/sphx_glr_plot_mathematical_morpho_001.png\" alt=\"image\" class=\"align-center\" />](auto_examples/plot_mathematical_morpho.html)\n",
    "\n",
    "**Exercise**\n",
    "\n",
    "Check that the area of the reconstructed square is smaller than the area\n",
    "of the initial square. (The opposite would occur if the closing step was\n",
    "performed *before* the opening).\n",
    "\n",
    "For *gray-valued* images, eroding (resp. dilating) amounts to replacing\n",
    "a pixel by the minimal (resp. maximal) value among pixels covered by the\n",
    "structuring element centered on the pixel of interest. :"
   ]
  },
  {
   "cell_type": "code",
   "execution_count": null,
   "id": "92cd57b4",
   "metadata": {},
   "outputs": [
    {
     "data": {
      "text/plain": [
       "array([[0, 0, 0, 0, 0, 0, 0],\n",
       "       [0, 3, 3, 3, 3, 3, 0],\n",
       "       [0, 3, 3, 1, 3, 3, 0],\n",
       "       [0, 3, 3, 3, 3, 3, 0],\n",
       "       [0, 3, 3, 3, 2, 3, 0],\n",
       "       [0, 3, 3, 3, 3, 3, 0],\n",
       "       [0, 0, 0, 0, 0, 0, 0]])"
      ]
     },
     "execution_count": 1,
     "metadata": {},
     "output_type": "execute_result"
    }
   ],
   "source": [
    "a = np.zeros((7, 7), dtype=int)\n",
    "a[1:6, 1:6] = 3\n",
    "a[4, 4] = 2; a[2, 3] = 1\n",
    "a"
   ]
  },
  {
   "cell_type": "code",
   "execution_count": null,
   "id": "e240ed95",
   "metadata": {},
   "outputs": [
    {
     "data": {
      "text/plain": [
       "array([[0, 0, 0, 0, 0, 0, 0],\n",
       "       [0, 0, 0, 0, 0, 0, 0],\n",
       "       [0, 0, 1, 1, 1, 0, 0],\n",
       "       [0, 0, 1, 1, 1, 0, 0],\n",
       "       [0, 0, 3, 2, 2, 0, 0],\n",
       "       [0, 0, 0, 0, 0, 0, 0],\n",
       "       [0, 0, 0, 0, 0, 0, 0]])"
      ]
     },
     "execution_count": 1,
     "metadata": {},
     "output_type": "execute_result"
    }
   ],
   "source": [
    "sp.ndimage.grey_erosion(a, size=(3, 3))"
   ]
  },
  {
   "cell_type": "markdown",
   "id": "8be7f0dd",
   "metadata": {},
   "source": [
    "### Connected components and measurements on images\n",
    "\n",
    "Let us first generate a nice synthetic binary image. :"
   ]
  },
  {
   "cell_type": "code",
   "execution_count": null,
   "id": "6e643e75",
   "metadata": {},
   "outputs": [],
   "source": [
    "x, y = np.indices((100, 100))\n",
    "sig = np.sin(2*np.pi*x/50.) * np.sin(2*np.pi*y/50.) * (1+x*y/50.**2)**2\n",
    "mask = sig > 1"
   ]
  },
  {
   "cell_type": "markdown",
   "id": "ed8c2cb5",
   "metadata": {},
   "source": [
    "[<img src=\"/intro/scipy/auto_examples/images/sphx_glr_plot_connect_measurements_001.png\" alt=\"image\" class=\"align-center\" />](auto_examples/plot_connect_measurements.html)\n",
    "\n",
    "[<img src=\"/intro/scipy/auto_examples/images/sphx_glr_plot_connect_measurements_002.png\" alt=\"image\" class=\"align-right\" />](auto_examples/plot_connect_measurements.html)\n",
    "\n",
    "`scipy.ndimage.label` assigns a different label to each connected\n",
    "component:"
   ]
  },
  {
   "cell_type": "code",
   "execution_count": null,
   "id": "cbe131e7",
   "metadata": {},
   "outputs": [
    {
     "data": {
      "text/plain": [
       "8"
      ]
     },
     "execution_count": 1,
     "metadata": {},
     "output_type": "execute_result"
    }
   ],
   "source": [
    "labels, nb = sp.ndimage.label(mask)\n",
    "nb"
   ]
  },
  {
   "cell_type": "markdown",
   "id": "b4b2a09d",
   "metadata": {},
   "source": [
    "<div style=\"clear: both\"></div>\n",
    "\n",
    "Now compute measurements on each connected component:"
   ]
  },
  {
   "cell_type": "code",
   "execution_count": null,
   "id": "b6a782cf",
   "metadata": {},
   "outputs": [
    {
     "data": {
      "text/plain": [
       "array([190.,   45.,  424.,  278.,  459.,  190.,  549.,  424.])"
      ]
     },
     "execution_count": 1,
     "metadata": {},
     "output_type": "execute_result"
    }
   ],
   "source": [
    "areas = sp.ndimage.sum(mask, labels, range(1, labels.max()+1))\n",
    "areas   # The number of pixels in each connected component"
   ]
  },
  {
   "cell_type": "code",
   "execution_count": null,
   "id": "6e6401d6",
   "metadata": {},
   "outputs": [
    {
     "data": {
      "text/plain": [
       "array([ 1.80238238,   1.13527605,   5.51954079,   2.49611818, 6.71673619,\n",
       "        1.80238238,  16.76547217,   5.51954079])"
      ]
     },
     "execution_count": 1,
     "metadata": {},
     "output_type": "execute_result"
    }
   ],
   "source": [
    "maxima = sp.ndimage.maximum(sig, labels, range(1, labels.max()+1))\n",
    "maxima  # The maximum signal in each connected component"
   ]
  },
  {
   "cell_type": "markdown",
   "id": "5aa47ad6",
   "metadata": {},
   "source": [
    "[<img src=\"/intro/scipy/auto_examples/images/sphx_glr_plot_connect_measurements_003.png\" alt=\"image\" class=\"align-right\" />](auto_examples/plot_connect_measurements.html)\n",
    "\n",
    "Extract the 4th connected component, and crop the array around it:"
   ]
  },
  {
   "cell_type": "code",
   "execution_count": null,
   "id": "793e3a3c",
   "metadata": {},
   "outputs": [
    {
     "data": {
      "text/plain": [
       "[(slice(30L, 48L, None), slice(30L, 48L, None))]"
      ]
     },
     "execution_count": 1,
     "metadata": {},
     "output_type": "execute_result"
    }
   ],
   "source": [
    "sp.ndimage.find_objects(labels==4) # doctest: +SKIP"
   ]
  },
  {
   "cell_type": "code",
   "execution_count": null,
   "id": "ea86a870",
   "metadata": {},
   "outputs": [
    {
     "data": {
      "text/plain": [
       "<matplotlib.image.AxesImage object at ...>"
      ]
     },
     "execution_count": 1,
     "metadata": {},
     "output_type": "execute_result"
    }
   ],
   "source": [
    "sl = sp.ndimage.find_objects(labels==4)\n",
    "import matplotlib.pyplot as plt\n",
    "plt.imshow(sig[sl[0]])   # doctest: +ELLIPSIS"
   ]
  },
  {
   "cell_type": "markdown",
   "id": "a8284be3",
   "metadata": {},
   "source": [
    "See the summary exercise on `summary_exercise_image_processing` for a\n",
    "more advanced example.\n",
    "\n",
    "## Summary exercises on scientific computing\n",
    "\n",
    "The summary exercises use mainly Numpy, Scipy and Matplotlib. They\n",
    "provide some real-life examples of scientific computing with Python. Now\n",
    "that the basics of working with Numpy and Scipy have been introduced,\n",
    "the interested user is invited to try these exercises.\n",
    "\n",
    "latex\n",
    "\n",
    "summary-exercises/stats-interpolate.rst\n",
    "summary-exercises/optimize-fit.rst\n",
    "summary-exercises/image-processing.rst\n",
    "summary-exercises/answers\\_image\\_processing.rst\n",
    "\n",
    "html\n",
    "\n",
    "**Exercises:**\n",
    "\n",
    "summary-exercises/stats-interpolate.rst\n",
    "summary-exercises/optimize-fit.rst\n",
    "summary-exercises/image-processing.rst\n",
    "\n",
    "**Proposed solutions:**\n",
    "\n",
    "summary-exercises/answers\\_image\\_processing.rst\n",
    "\n",
    "**References to go further**\n",
    "\n",
    "-   Some chapters of the [advanced](advanced_topics_part) and the\n",
    "    [packages and applications](applications_part) parts of the scipy\n",
    "    lectures\n",
    "-   The [scipy cookbook](https://scipy-cookbook.readthedocs.io)"
   ]
  }
 ],
 "metadata": {
  "kernelspec": {
   "display_name": "Python 3 (ipykernel)",
   "language": "python",
   "name": "python3"
  },
  "language_info": {
   "codemirror_mode": {
    "name": "ipython",
    "version": 3
   },
   "file_extension": ".py",
   "mimetype": "text/x-python",
   "name": "python",
   "nbconvert_exporter": "python",
   "pygments_lexer": "ipython3",
   "version": "3.9.7"
  }
 },
 "nbformat": 4,
 "nbformat_minor": 5
}
