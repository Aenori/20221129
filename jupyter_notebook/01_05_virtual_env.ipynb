{
 "cells": [
  {
   "cell_type": "markdown",
   "id": "5baa1ae6",
   "metadata": {},
   "source": [
    "# Virtual env\n",
    "\n",
    "Note : ce notbook est disponible à titre de démonstration, il ne fonctionnera pas nécessairement sous google colab ou sur l'environnement de l'utilisateur particulièrement si celui-ci est sous Windows.\n",
    "\n",
    "Le principe d'un environnement virtuel est de pouvoir faire cohabiter plusieurs versions des même librairies python sur un même systême. Cela est essentiel si vos travaillez sur différents projets, en collaboration avec différentes personnes, afin d'assurer la reproductibilité des résultats.\n",
    "\n",
    "On utilisera pour cela le module virtualenv.  \n",
    "\n",
    "A noter que dans les cellules suivantes, aucune ne correspond à un code python. Il y a deux types de cellules :  \n",
    "\n",
    "- celle commençant par '%' correspondent à des instructions 'magic' jupyter  \n",
    "- celle commençant par '!' sont directement des commandes shell / ligne de commande\n",
    "\n",
    "Ces dernières commandes sont naturellement incompatibles linux / windows."
   ]
  },
  {
   "cell_type": "markdown",
   "id": "500331e0",
   "metadata": {},
   "source": [
    "Documentation :  \n",
    "\n",
    "https://docs.python.org/3/tutorial/venv.html  \n",
    "https://python-guide-pt-br.readthedocs.io/fr/latest/dev/virtualenvs.html  "
   ]
  },
  {
   "cell_type": "markdown",
   "id": "9b685442",
   "metadata": {},
   "source": [
    "## Installation de virtualenv\n",
    "\n",
    "Virtualenv est un module python. On l'installe donc avec pip."
   ]
  },
  {
   "cell_type": "code",
   "execution_count": 1,
   "id": "ba3aae42",
   "metadata": {},
   "outputs": [
    {
     "name": "stdout",
     "output_type": "stream",
     "text": [
      "Requirement already satisfied: virtualenv in /home/nicolas/anaconda3/lib/python3.9/site-packages (20.16.6)\n",
      "Requirement already satisfied: distlib<1,>=0.3.6 in /home/nicolas/anaconda3/lib/python3.9/site-packages (from virtualenv) (0.3.6)\n",
      "Requirement already satisfied: platformdirs<3,>=2.4 in /home/nicolas/anaconda3/lib/python3.9/site-packages (from virtualenv) (2.4.0)\n",
      "Requirement already satisfied: filelock<4,>=3.4.1 in /home/nicolas/anaconda3/lib/python3.9/site-packages (from virtualenv) (3.6.0)\n",
      "Note: you may need to restart the kernel to use updated packages.\n"
     ]
    }
   ],
   "source": [
    "%pip install virtualenv"
   ]
  },
  {
   "cell_type": "markdown",
   "id": "fe4d32e9",
   "metadata": {},
   "source": [
    "On peut ensuite créer un environnement virtuel avec la commande **virtualenv** suivi du nom de l'environnement (qui ici correspond à un répertoire local)\n",
    "\n",
    "Ensuite l'activer avec la commande **source venv/bin/activate** (ou **venv/bin/activate.bat** sous windows) et enfin install une librairie avec une version spécifique.\n",
    "\n",
    "NB : le symoble **&&** est utilisé en ligne de commande linux pour séparer les commandes, chaque commande n'étant exécutée que si la précédente a fonctionné."
   ]
  },
  {
   "cell_type": "code",
   "execution_count": 2,
   "id": "c72c7b21",
   "metadata": {},
   "outputs": [
    {
     "name": "stdout",
     "output_type": "stream",
     "text": [
      "created virtual environment CPython3.9.7.final.0-64 in 183ms\n",
      "  creator CPython3Posix(dest=/home/nicolas/dev/formations/PythonDataScience/PDS_orsys/PythonDataScience/jupyter_notebook/venv, clear=False, no_vcs_ignore=False, global=False)\n",
      "  seeder FromAppData(download=False, pip=bundle, setuptools=bundle, wheel=bundle, via=copy, app_data_dir=/home/nicolas/.local/share/virtualenv)\n",
      "    added seed packages: pip==22.3.1, setuptools==65.5.1, simplejson==3.16.0, wheel==0.37.1\n",
      "  activators BashActivator,CShellActivator,FishActivator,NushellActivator,PowerShellActivator,PythonActivator\n",
      "Requirement already satisfied: simplejson==3.16 in ./venv/lib/python3.9/site-packages (3.16.0)\n"
     ]
    }
   ],
   "source": [
    "!(virtualenv venv && source venv/bin/activate && pip install simplejson==3.16)"
   ]
  },
  {
   "cell_type": "markdown",
   "id": "e90dd9a6",
   "metadata": {},
   "source": [
    "Maintenant si on utilise cet environnement virtuel pour déterminer la version de la librairie **simplejson**, on obtient :"
   ]
  },
  {
   "cell_type": "code",
   "execution_count": 3,
   "id": "60e3ccd2",
   "metadata": {},
   "outputs": [
    {
     "name": "stdout",
     "output_type": "stream",
     "text": [
      "3.16.0\r\n"
     ]
    }
   ],
   "source": [
    "!(source venv/bin/activate && python -c \"import simplejson; print(simplejson.__version__)\")"
   ]
  },
  {
   "cell_type": "markdown",
   "id": "26fb03c3",
   "metadata": {},
   "source": [
    "On fait la même chose, avec un autre environnement virtuel (**venv2**) et une autre version de la librairie (3.17 au lieu de 3.16) "
   ]
  },
  {
   "cell_type": "code",
   "execution_count": 4,
   "id": "43a468d5",
   "metadata": {},
   "outputs": [
    {
     "name": "stdout",
     "output_type": "stream",
     "text": [
      "created virtual environment CPython3.9.7.final.0-64 in 184ms\n",
      "  creator CPython3Posix(dest=/home/nicolas/dev/formations/PythonDataScience/PDS_orsys/PythonDataScience/jupyter_notebook/venv2, clear=False, no_vcs_ignore=False, global=False)\n",
      "  seeder FromAppData(download=False, pip=bundle, setuptools=bundle, wheel=bundle, via=copy, app_data_dir=/home/nicolas/.local/share/virtualenv)\n",
      "    added seed packages: pip==22.3.1, setuptools==65.5.1, simplejson==3.17.0, wheel==0.37.1\n",
      "  activators BashActivator,CShellActivator,FishActivator,NushellActivator,PowerShellActivator,PythonActivator\n",
      "Requirement already satisfied: simplejson==3.17 in ./venv2/lib/python3.9/site-packages (3.17.0)\n"
     ]
    }
   ],
   "source": [
    "!(virtualenv venv2 && source venv2/bin/activate && pip install simplejson==3.17)"
   ]
  },
  {
   "cell_type": "code",
   "execution_count": 5,
   "id": "83bbb71a",
   "metadata": {},
   "outputs": [
    {
     "name": "stdout",
     "output_type": "stream",
     "text": [
      "3.17.0\r\n"
     ]
    }
   ],
   "source": [
    "!(source venv2/bin/activate && python -c \"import simplejson; print(simplejson.__version__)\")"
   ]
  },
  {
   "cell_type": "markdown",
   "id": "6d0c0cc5",
   "metadata": {},
   "source": [
    "Maintenant on peut user alternivement les deux environnements virtuels librement :"
   ]
  },
  {
   "cell_type": "code",
   "execution_count": 6,
   "id": "79a21425",
   "metadata": {},
   "outputs": [
    {
     "name": "stdout",
     "output_type": "stream",
     "text": [
      "3.16.0\r\n"
     ]
    }
   ],
   "source": [
    "!(source venv/bin/activate && python -c \"import simplejson; print(simplejson.__version__)\")"
   ]
  },
  {
   "cell_type": "code",
   "execution_count": 7,
   "id": "370eb9f2",
   "metadata": {},
   "outputs": [
    {
     "name": "stdout",
     "output_type": "stream",
     "text": [
      "3.17.0\r\n"
     ]
    }
   ],
   "source": [
    "!(source venv2/bin/activate && python -c \"import simplejson; print(simplejson.__version__)\")"
   ]
  },
  {
   "cell_type": "code",
   "execution_count": 8,
   "id": "077e641c",
   "metadata": {},
   "outputs": [
    {
     "name": "stdout",
     "output_type": "stream",
     "text": [
      "3.16.0\r\n"
     ]
    }
   ],
   "source": [
    "!(source venv/bin/activate && python -c \"import simplejson; print(simplejson.__version__)\")"
   ]
  },
  {
   "cell_type": "code",
   "execution_count": 9,
   "id": "23f51c75",
   "metadata": {},
   "outputs": [
    {
     "name": "stdout",
     "output_type": "stream",
     "text": [
      "3.17.0\r\n"
     ]
    }
   ],
   "source": [
    "!(source venv2/bin/activate && python -c \"import simplejson; print(simplejson.__version__)\")"
   ]
  },
  {
   "cell_type": "markdown",
   "id": "5211a31c",
   "metadata": {},
   "source": [
    "A noter que vous n'aurez besoin d'appeler **source venv2/bin/activate** qu'une seule fois en temps normal, simplement l'usage de virtual env dans un jupyter notebook qui est fait ici n'est pas naturel. "
   ]
  },
  {
   "cell_type": "markdown",
   "id": "52d4fe4c",
   "metadata": {},
   "source": [
    "# Pourquoi je n'utilise jamais virtualenv ...\n",
    "\n",
    "Simplement parce que j'utilise linux et docker (NB : docker existe aussi sous windows)  \n",
    "Souvent on peut trouver deux types de projets en data science :\n",
    "- les études \"one-shot\"  \n",
    "- les programmes et librairies vivant sur le long terme  \n",
    "\n",
    "Dans le premier cas, il est souvent inutile d'utiliser virtualenv, on se contentera d'avoir des librairies décemment à jour, et d'utiliser **pip freeze** pour laisser à d'autres utilisateurs le soin d'éventuellement reproduire les résultats.\n",
    "\n",
    "Dans le deuxième cas, il existe une solution beaucoup plus puissante, docker, qui consiste à faire tourner une application sur un kernel dédié. On a tous les avantages de l'environnement virtuel, en ajoutant une indépendance du système d'exploitation qui garantit la coopération possible linux / windows ainsi que le déploiement et l'intégration continue (ou les systèmes linux sont nettement prépondérants)   \n",
    "\n"
   ]
  }
 ],
 "metadata": {
  "kernelspec": {
   "display_name": "Python 3 (ipykernel)",
   "language": "python",
   "name": "python3"
  },
  "language_info": {
   "codemirror_mode": {
    "name": "ipython",
    "version": 3
   },
   "file_extension": ".py",
   "mimetype": "text/x-python",
   "name": "python",
   "nbconvert_exporter": "python",
   "pygments_lexer": "ipython3",
   "version": "3.9.7"
  }
 },
 "nbformat": 4,
 "nbformat_minor": 5
}
