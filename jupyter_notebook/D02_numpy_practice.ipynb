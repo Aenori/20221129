{
 "cells": [
  {
   "cell_type": "markdown",
   "metadata": {},
   "source": [
    "# TP numpy et matrix"
   ]
  },
  {
   "cell_type": "markdown",
   "metadata": {},
   "source": [
    "In case, just a few math vocabulary :\n",
    "- vector -> array of dimension 1\n",
    "- matrix -> array of dimension 2\n",
    "- tensor -> array of dimension 3 or more"
   ]
  },
  {
   "cell_type": "code",
   "execution_count": null,
   "metadata": {},
   "outputs": [],
   "source": [
    "import urllib.request\n",
    "# Please execute this at the start of the notebook\n",
    "\n",
    "for helper_files in ['cours_python_utils.py', 'test_numpy_matrices.py', 'VanGogh.jpg']:\n",
    "  urllib.request.urlretrieve('https://raw.githubusercontent.com/Aenori/20221024_public/main/help_files/numpy/' + helper_files,\n",
    "                             helper_files)"
   ]
  },
  {
   "cell_type": "markdown",
   "metadata": {},
   "source": [
    "### Exercise 1 : creating vector and matrix\n",
    "\n",
    "#### Question 1 : creation of a vector of 1 with \"ones\"\n",
    "\n",
    "Using <code>np.ones</code> create a vector **vector_q1**\n",
    "\n",
    "vector_q1 = $\\begin{bmatrix}1 & 1 & 1\\end{bmatrix}$"
   ]
  },
  {
   "cell_type": "code",
   "execution_count": null,
   "metadata": {},
   "outputs": [],
   "source": [
    "import numpy as np\n",
    "## Insert your code here\n",
    "vector_q1 = np.ones(3)\n",
    "\n",
    "## Don't modify the following lines\n",
    "import test_numpy_matrices\n",
    "test_numpy_matrices.tester_exo( '1Q1', globals() )"
   ]
  },
  {
   "cell_type": "markdown",
   "metadata": {},
   "source": [
    "#### Question 2 : creation of a vector with 0\n",
    "\n",
    "Construct one vector of 5 elements looking like this :\n",
    "\n",
    "vector_q2 = $\\begin{bmatrix}0 & 0 & 0 & 0 & 0\\end{bmatrix}$"
   ]
  },
  {
   "cell_type": "code",
   "execution_count": null,
   "metadata": {},
   "outputs": [],
   "source": [
    "import numpy as np\n",
    "## Insert your code here\n",
    "\n",
    "\n",
    "## Don't modify the following lines\n",
    "import test_numpy_matrices\n",
    "test_numpy_matrices.tester_exo( '1Q2', globals() )"
   ]
  },
  {
   "cell_type": "markdown",
   "metadata": {},
   "source": [
    "#### Question 3 : create a matrix of 0\n",
    "\n",
    "Construct a square matrix of 3 \\* 3 elements :\n",
    "\n",
    "matrix_q3 = $\\begin{bmatrix} 0 & 0 & 0 \\\\ 0 & 0 & 0 \\\\ 0 & 0 & 0 \\end{bmatrix}$"
   ]
  },
  {
   "cell_type": "code",
   "execution_count": null,
   "metadata": {},
   "outputs": [],
   "source": [
    "import numpy as np\n",
    "## Insert your code here\n",
    "\n",
    "\n",
    "## Don't modify the following lines\n",
    "import test_numpy_matrices\n",
    "test_numpy_matrices.tester_exo( '1Q3', globals() )"
   ]
  },
  {
   "cell_type": "code",
   "execution_count": null,
   "metadata": {},
   "outputs": [],
   "source": [
    "matrix_q3"
   ]
  },
  {
   "cell_type": "markdown",
   "metadata": {},
   "source": [
    "#### Question 5 : create an indentity matrix\n",
    "\n",
    "Construct a square matrix of 3 \\* 3 elements :\n",
    "\n",
    "matrix_q5 = $\\begin{bmatrix} 1 & 0 & 0 \\\\ 0 & 1 & 0 \\\\ 0 & 0 & 1 \\end{bmatrix}$"
   ]
  },
  {
   "cell_type": "code",
   "execution_count": null,
   "metadata": {},
   "outputs": [],
   "source": [
    "import numpy as np\n",
    "## Insert your code here\n",
    "\n",
    "\n",
    "## Don't modify the following lines\n",
    "import test_numpy_matrices\n",
    "test_numpy_matrices.tester_exo( '1Q5', globals() )"
   ]
  },
  {
   "cell_type": "code",
   "execution_count": null,
   "metadata": {},
   "outputs": [],
   "source": []
  },
  {
   "cell_type": "markdown",
   "metadata": {
    "collapsed": true
   },
   "source": [
    "### Exercise 2 : test if a matrix is positive\n",
    "\n",
    "Write a function **is_positive** ou take an array an return True if all the elements are positive or zeros, False elsewise"
   ]
  },
  {
   "cell_type": "code",
   "execution_count": null,
   "metadata": {},
   "outputs": [],
   "source": [
    "import numpy as np\n",
    "## Insert your code here\n",
    "\n",
    "\n",
    "## Don't modify the following lines\n",
    "import test_numpy_matrices\n",
    "test_numpy_matrices.tester_exo( '2', globals() )"
   ]
  },
  {
   "cell_type": "markdown",
   "metadata": {},
   "source": [
    "### Exercise 3 : calculate the sum of the first two row of a matrix\n",
    "\n",
    "Write a function **sum_two_row** that take an array as argument and return the sum of the first two row, whatever is the size.\n",
    "\n",
    "matrix_e3_1 = $\\begin{bmatrix} 1 & 2 & 3 \\\\ 1 & 2 & 3 \\\\ 3 & 3 & 1 \\end{bmatrix}$  \n",
    "sum_two_row(matrix_e3_1) return 12\n",
    "\n",
    "matrix_e3_2 = $\\begin{bmatrix} 1 & 2 & 0 & 7 \\\\ 1 & 2 & 0 & 0 \\\\ 3 & 3 & 1 & -1 \\end{bmatrix}$  \n",
    "sum_two_row(matrix_e3_2) return 13"
   ]
  },
  {
   "cell_type": "code",
   "execution_count": null,
   "metadata": {},
   "outputs": [],
   "source": [
    "\n",
    "\n",
    "# Don't modify the following line\n",
    "matrix_e3_1 = np.array([[1, 2, 3], [1, 2, 3], [3, 3, 1]])\n",
    "print(f\"result 1 : {sum_two_row(matrix_e3_1)}, should be 12\")\n",
    "assert(sum_two_row(matrix_e3_1) == 12)\n",
    "\n",
    "matrix_e3_1 = np.array([[1, 2, 0, 7], [1, 2, 0, 0], [3, 3, 1, -1]])\n",
    "print(f\"result 1 : {sum_two_row(matrix_e3_1)}, should be 13\")\n",
    "assert(sum_two_row(matrix_e3_1) == 13)\n",
    "\n",
    "print(\"Your code is fine :-)\")"
   ]
  },
  {
   "cell_type": "markdown",
   "metadata": {},
   "source": [
    "### Exercise 4 : calculate the sum of the first two col of a matrix\n",
    "\n",
    "Write a function **sum_two_col** that take an array as argument and return the sum of the first two col, whatever is the size.\n",
    "\n",
    "matrix_e3_1 = $\\begin{bmatrix} 1 & 2 & 3 \\\\ 1 & 2 & 3 \\\\ 0 & 13 & 1 \\end{bmatrix}$  \n",
    "sum_two_row(matrix_e3_1) return 19\n",
    "\n",
    "matrix_e3_2 = $\\begin{bmatrix} 1 & 2 & 0 & 7 \\\\ 1 & 2 & 0 & 0 \\\\ 3 & 3 & 1 & -1 \\end{bmatrix}$  \n",
    "sum_two_row(matrix_e3_2) return 12"
   ]
  },
  {
   "cell_type": "code",
   "execution_count": null,
   "metadata": {},
   "outputs": [],
   "source": [
    "\n",
    "\n",
    "# Don't modify the following line\n",
    "matrix_e3_1 = np.array([[1, 2, 3], [1, 2, 3], [0, 13, 1]])\n",
    "print(f\"result 1 : {sum_two_col(matrix_e3_1)}, should be 19\")\n",
    "assert(sum_two_col(matrix_e3_1) == 19)\n",
    "\n",
    "matrix_e3_1 = np.array([[1, 2, 0, 7], [1, 2, 0, 0], [3, 3, 1, -1]])\n",
    "print(f\"result 1 : {sum_two_col(matrix_e3_1)}, should be 12\")\n",
    "assert(sum_two_col(matrix_e3_1) == 12)\n",
    "\n",
    "print(\"Your code is fine :-)\")"
   ]
  },
  {
   "cell_type": "markdown",
   "metadata": {},
   "source": [
    "### Exercise 5 : extract the center of a matrix\n",
    "\n",
    "Write a function **extract_center** that extract the center of an matrix, more exactly everything but the first row, last row, first col and last col\n",
    "\n",
    "matrix_e3_1 = $\\begin{bmatrix} 1 & 2 & 3 \\\\ 1 & 2 & 3 \\\\ 0 & 13 & 1 \\end{bmatrix}$  \n",
    "extract_center(matrix_e3_1) return $\\begin{bmatrix} 2 \\end{bmatrix}$  \n",
    "\n",
    "matrix_e3_2 = $\\begin{bmatrix} 1 & 2 & 0 & 7 \\\\ 1 & 2 & 0 & 0 \\\\ 3 & 3 & 1 & -1 \\end{bmatrix}$\n",
    "extract_center(matrix_e3_2) return $\\begin{bmatrix} 2 & 0 \\end{bmatrix}$  "
   ]
  },
  {
   "cell_type": "code",
   "execution_count": null,
   "metadata": {},
   "outputs": [],
   "source": [
    "# Sorry, no test from here "
   ]
  },
  {
   "cell_type": "markdown",
   "metadata": {},
   "source": [
    "## Part 2 : picture manipulation"
   ]
  },
  {
   "cell_type": "markdown",
   "metadata": {},
   "source": [
    "What is the relation between numpy array and picture ? Simply because the most recent python library (opencv, tensorflow) use numpy as a support for the picture. "
   ]
  },
  {
   "cell_type": "code",
   "execution_count": null,
   "metadata": {},
   "outputs": [],
   "source": [
    "import cv2\n",
    "from matplotlib import pyplot as plt\n",
    "import numpy as np"
   ]
  },
  {
   "cell_type": "code",
   "execution_count": null,
   "metadata": {},
   "outputs": [],
   "source": [
    "img = cv2.imread('VanGogh.jpg')\n",
    "img = cv2.cvtColor(img, cv2.COLOR_BGR2RGB)"
   ]
  },
  {
   "cell_type": "code",
   "execution_count": null,
   "metadata": {},
   "outputs": [],
   "source": [
    "img.shape"
   ]
  },
  {
   "cell_type": "code",
   "execution_count": null,
   "metadata": {},
   "outputs": [],
   "source": [
    "plt.imshow(img)\n",
    "plt.show()"
   ]
  },
  {
   "cell_type": "markdown",
   "metadata": {},
   "source": [
    "### Exercise 1 : extracting picture colors\n",
    "\n",
    "using numpy, create 3 pictures that only contains the red, green and blue channel of the picture"
   ]
  },
  {
   "cell_type": "code",
   "execution_count": null,
   "metadata": {},
   "outputs": [],
   "source": []
  },
  {
   "cell_type": "markdown",
   "metadata": {},
   "source": [
    "### Exercise 2 : turning the picture to gray scale\n",
    "\n",
    "Using numpy, turn the image to grey."
   ]
  },
  {
   "cell_type": "code",
   "execution_count": null,
   "metadata": {},
   "outputs": [],
   "source": []
  }
 ],
 "metadata": {
  "kernelspec": {
   "display_name": "Python 3 (ipykernel)",
   "language": "python",
   "name": "python3"
  },
  "language_info": {
   "codemirror_mode": {
    "name": "ipython",
    "version": 3
   },
   "file_extension": ".py",
   "mimetype": "text/x-python",
   "name": "python",
   "nbconvert_exporter": "python",
   "pygments_lexer": "ipython3",
   "version": "3.9.7"
  }
 },
 "nbformat": 4,
 "nbformat_minor": 1
}
