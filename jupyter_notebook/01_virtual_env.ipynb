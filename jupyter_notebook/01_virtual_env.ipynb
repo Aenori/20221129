{
 "cells": [
  {
   "cell_type": "markdown",
   "id": "500331e0",
   "metadata": {},
   "source": [
    "Source :\n",
    "\n",
    "https://python-guide-pt-br.readthedocs.io/fr/latest/dev/virtualenvs.html"
   ]
  },
  {
   "cell_type": "code",
   "execution_count": 1,
   "id": "625a05b8",
   "metadata": {},
   "outputs": [
    {
     "name": "stdout",
     "output_type": "stream",
     "text": [
      "Requirement already satisfied: pandas in /home/nicolas/anaconda3/lib/python3.9/site-packages (1.4.3)\n",
      "Requirement already satisfied: python-dateutil>=2.8.1 in /home/nicolas/anaconda3/lib/python3.9/site-packages (from pandas) (2.8.2)\n",
      "Requirement already satisfied: pytz>=2020.1 in /home/nicolas/anaconda3/lib/python3.9/site-packages (from pandas) (2022.1)\n",
      "Requirement already satisfied: numpy>=1.18.5 in /home/nicolas/anaconda3/lib/python3.9/site-packages (from pandas) (1.21.5)\n",
      "Requirement already satisfied: six>=1.5 in /home/nicolas/anaconda3/lib/python3.9/site-packages (from python-dateutil>=2.8.1->pandas) (1.16.0)\n",
      "Note: you may need to restart the kernel to use updated packages.\n"
     ]
    }
   ],
   "source": [
    "%pip install pandas"
   ]
  },
  {
   "cell_type": "code",
   "execution_count": 2,
   "id": "ba3aae42",
   "metadata": {},
   "outputs": [
    {
     "name": "stdout",
     "output_type": "stream",
     "text": [
      "Requirement already satisfied: virtualenv in /home/nicolas/anaconda3/lib/python3.9/site-packages (20.16.6)\n",
      "Requirement already satisfied: distlib<1,>=0.3.6 in /home/nicolas/anaconda3/lib/python3.9/site-packages (from virtualenv) (0.3.6)\n",
      "Requirement already satisfied: platformdirs<3,>=2.4 in /home/nicolas/anaconda3/lib/python3.9/site-packages (from virtualenv) (2.4.0)\n",
      "Requirement already satisfied: filelock<4,>=3.4.1 in /home/nicolas/anaconda3/lib/python3.9/site-packages (from virtualenv) (3.6.0)\n",
      "Note: you may need to restart the kernel to use updated packages.\n"
     ]
    }
   ],
   "source": [
    "%pip install virtualenv"
   ]
  },
  {
   "cell_type": "code",
   "execution_count": 3,
   "id": "76d44aae",
   "metadata": {},
   "outputs": [
    {
     "name": "stdout",
     "output_type": "stream",
     "text": [
      "01_virtual_env.ipynb\r\n"
     ]
    }
   ],
   "source": [
    "!ls"
   ]
  },
  {
   "cell_type": "code",
   "execution_count": null,
   "id": "cd7a28e3",
   "metadata": {},
   "outputs": [],
   "source": [
    "pip install virtualenvwrapper"
   ]
  },
  {
   "cell_type": "code",
   "execution_count": 4,
   "id": "6567dce3",
   "metadata": {},
   "outputs": [
    {
     "name": "stdout",
     "output_type": "stream",
     "text": [
      "/bin/bash: mkvirtualenv: command not found\r\n"
     ]
    }
   ],
   "source": [
    "!mkvirtualenv venv"
   ]
  },
  {
   "cell_type": "code",
   "execution_count": null,
   "id": "c72c7b21",
   "metadata": {},
   "outputs": [],
   "source": []
  }
 ],
 "metadata": {
  "kernelspec": {
   "display_name": "Python 3 (ipykernel)",
   "language": "python",
   "name": "python3"
  },
  "language_info": {
   "codemirror_mode": {
    "name": "ipython",
    "version": 3
   },
   "file_extension": ".py",
   "mimetype": "text/x-python",
   "name": "python",
   "nbconvert_exporter": "python",
   "pygments_lexer": "ipython3",
   "version": "3.9.7"
  }
 },
 "nbformat": 4,
 "nbformat_minor": 5
}
