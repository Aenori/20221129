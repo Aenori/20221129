{
 "cells": [
  {
   "cell_type": "markdown",
   "id": "08ce445c",
   "metadata": {},
   "source": [
    "Copyright (c) 2021 Stefanie Molin  \n",
    "MIT License  \n",
    "git@github.com:stefmolin/pandas-workshop.git  "
   ]
  },
  {
   "cell_type": "markdown",
   "id": "770a499f-fa07-4ca0-8ddd-c50e76eb0599",
   "metadata": {
    "tags": []
   },
   "source": [
    "# Workbook\n",
    "\n",
    "Use this notebook to complete the exercises throughout the workshop."
   ]
  },
  {
   "cell_type": "code",
   "execution_count": 1,
   "id": "6d955d4b",
   "metadata": {},
   "outputs": [],
   "source": [
    "import urllib.request\n",
    "# Please execute this at the start of the notebook\n",
    "\n",
    "base_url = 'https://raw.githubusercontent.com/Aenori/20221024_public/main/help_files/pandas/'\n",
    "helper_files = ['2019_Yellow_Taxi_Trip_Data.csv', 'Meteorite_Landings.csv', 'tsa_melted_holiday_travel.csv']\n",
    "\n",
    "for helper_file in helper_files:\n",
    "    urllib.request.urlretrieve(base_url + helper_file, helper_file)\n",
    "\n",
    "taxi_file, meteorite_file, holiday_file = helper_files"
   ]
  },
  {
   "cell_type": "markdown",
   "id": "69c3a4b7",
   "metadata": {},
   "source": [
    "### Section 1\n",
    "\n",
    "#### Exercise 1.1\n",
    "##### Create a DataFrame by reading in the `2019_Yellow_Taxi_Trip_Data.csv` file. Examine the first 5 rows."
   ]
  },
  {
   "cell_type": "code",
   "execution_count": 2,
   "id": "aa449dc1-4c0b-47ce-bba7-061568590d97",
   "metadata": {},
   "outputs": [
    {
     "data": {
      "text/html": [
       "<div>\n",
       "<style scoped>\n",
       "    .dataframe tbody tr th:only-of-type {\n",
       "        vertical-align: middle;\n",
       "    }\n",
       "\n",
       "    .dataframe tbody tr th {\n",
       "        vertical-align: top;\n",
       "    }\n",
       "\n",
       "    .dataframe thead th {\n",
       "        text-align: right;\n",
       "    }\n",
       "</style>\n",
       "<table border=\"1\" class=\"dataframe\">\n",
       "  <thead>\n",
       "    <tr style=\"text-align: right;\">\n",
       "      <th></th>\n",
       "      <th>vendorid</th>\n",
       "      <th>tpep_pickup_datetime</th>\n",
       "      <th>tpep_dropoff_datetime</th>\n",
       "      <th>passenger_count</th>\n",
       "      <th>trip_distance</th>\n",
       "      <th>ratecodeid</th>\n",
       "      <th>store_and_fwd_flag</th>\n",
       "      <th>pulocationid</th>\n",
       "      <th>dolocationid</th>\n",
       "      <th>payment_type</th>\n",
       "      <th>fare_amount</th>\n",
       "      <th>extra</th>\n",
       "      <th>mta_tax</th>\n",
       "      <th>tip_amount</th>\n",
       "      <th>tolls_amount</th>\n",
       "      <th>improvement_surcharge</th>\n",
       "      <th>total_amount</th>\n",
       "      <th>congestion_surcharge</th>\n",
       "    </tr>\n",
       "  </thead>\n",
       "  <tbody>\n",
       "    <tr>\n",
       "      <th>0</th>\n",
       "      <td>2</td>\n",
       "      <td>2019-10-23T16:39:42.000</td>\n",
       "      <td>2019-10-23T17:14:10.000</td>\n",
       "      <td>1</td>\n",
       "      <td>7.93</td>\n",
       "      <td>1</td>\n",
       "      <td>N</td>\n",
       "      <td>138</td>\n",
       "      <td>170</td>\n",
       "      <td>1</td>\n",
       "      <td>29.5</td>\n",
       "      <td>1.0</td>\n",
       "      <td>0.5</td>\n",
       "      <td>7.98</td>\n",
       "      <td>6.12</td>\n",
       "      <td>0.3</td>\n",
       "      <td>47.90</td>\n",
       "      <td>2.5</td>\n",
       "    </tr>\n",
       "    <tr>\n",
       "      <th>1</th>\n",
       "      <td>1</td>\n",
       "      <td>2019-10-23T16:32:08.000</td>\n",
       "      <td>2019-10-23T16:45:26.000</td>\n",
       "      <td>1</td>\n",
       "      <td>2.00</td>\n",
       "      <td>1</td>\n",
       "      <td>N</td>\n",
       "      <td>11</td>\n",
       "      <td>26</td>\n",
       "      <td>1</td>\n",
       "      <td>10.5</td>\n",
       "      <td>1.0</td>\n",
       "      <td>0.5</td>\n",
       "      <td>0.00</td>\n",
       "      <td>0.00</td>\n",
       "      <td>0.3</td>\n",
       "      <td>12.30</td>\n",
       "      <td>0.0</td>\n",
       "    </tr>\n",
       "    <tr>\n",
       "      <th>2</th>\n",
       "      <td>2</td>\n",
       "      <td>2019-10-23T16:08:44.000</td>\n",
       "      <td>2019-10-23T16:21:11.000</td>\n",
       "      <td>1</td>\n",
       "      <td>1.36</td>\n",
       "      <td>1</td>\n",
       "      <td>N</td>\n",
       "      <td>163</td>\n",
       "      <td>162</td>\n",
       "      <td>1</td>\n",
       "      <td>9.5</td>\n",
       "      <td>1.0</td>\n",
       "      <td>0.5</td>\n",
       "      <td>2.00</td>\n",
       "      <td>0.00</td>\n",
       "      <td>0.3</td>\n",
       "      <td>15.80</td>\n",
       "      <td>2.5</td>\n",
       "    </tr>\n",
       "    <tr>\n",
       "      <th>3</th>\n",
       "      <td>2</td>\n",
       "      <td>2019-10-23T16:22:44.000</td>\n",
       "      <td>2019-10-23T16:43:26.000</td>\n",
       "      <td>1</td>\n",
       "      <td>1.00</td>\n",
       "      <td>1</td>\n",
       "      <td>N</td>\n",
       "      <td>170</td>\n",
       "      <td>163</td>\n",
       "      <td>1</td>\n",
       "      <td>13.0</td>\n",
       "      <td>1.0</td>\n",
       "      <td>0.5</td>\n",
       "      <td>4.32</td>\n",
       "      <td>0.00</td>\n",
       "      <td>0.3</td>\n",
       "      <td>21.62</td>\n",
       "      <td>2.5</td>\n",
       "    </tr>\n",
       "    <tr>\n",
       "      <th>4</th>\n",
       "      <td>2</td>\n",
       "      <td>2019-10-23T16:45:11.000</td>\n",
       "      <td>2019-10-23T16:58:49.000</td>\n",
       "      <td>1</td>\n",
       "      <td>1.96</td>\n",
       "      <td>1</td>\n",
       "      <td>N</td>\n",
       "      <td>163</td>\n",
       "      <td>236</td>\n",
       "      <td>1</td>\n",
       "      <td>10.5</td>\n",
       "      <td>1.0</td>\n",
       "      <td>0.5</td>\n",
       "      <td>0.50</td>\n",
       "      <td>0.00</td>\n",
       "      <td>0.3</td>\n",
       "      <td>15.30</td>\n",
       "      <td>2.5</td>\n",
       "    </tr>\n",
       "  </tbody>\n",
       "</table>\n",
       "</div>"
      ],
      "text/plain": [
       "   vendorid     tpep_pickup_datetime    tpep_dropoff_datetime  \\\n",
       "0         2  2019-10-23T16:39:42.000  2019-10-23T17:14:10.000   \n",
       "1         1  2019-10-23T16:32:08.000  2019-10-23T16:45:26.000   \n",
       "2         2  2019-10-23T16:08:44.000  2019-10-23T16:21:11.000   \n",
       "3         2  2019-10-23T16:22:44.000  2019-10-23T16:43:26.000   \n",
       "4         2  2019-10-23T16:45:11.000  2019-10-23T16:58:49.000   \n",
       "\n",
       "   passenger_count  trip_distance  ratecodeid store_and_fwd_flag  \\\n",
       "0                1           7.93           1                  N   \n",
       "1                1           2.00           1                  N   \n",
       "2                1           1.36           1                  N   \n",
       "3                1           1.00           1                  N   \n",
       "4                1           1.96           1                  N   \n",
       "\n",
       "   pulocationid  dolocationid  payment_type  fare_amount  extra  mta_tax  \\\n",
       "0           138           170             1         29.5    1.0      0.5   \n",
       "1            11            26             1         10.5    1.0      0.5   \n",
       "2           163           162             1          9.5    1.0      0.5   \n",
       "3           170           163             1         13.0    1.0      0.5   \n",
       "4           163           236             1         10.5    1.0      0.5   \n",
       "\n",
       "   tip_amount  tolls_amount  improvement_surcharge  total_amount  \\\n",
       "0        7.98          6.12                    0.3         47.90   \n",
       "1        0.00          0.00                    0.3         12.30   \n",
       "2        2.00          0.00                    0.3         15.80   \n",
       "3        4.32          0.00                    0.3         21.62   \n",
       "4        0.50          0.00                    0.3         15.30   \n",
       "\n",
       "   congestion_surcharge  \n",
       "0                   2.5  \n",
       "1                   0.0  \n",
       "2                   2.5  \n",
       "3                   2.5  \n",
       "4                   2.5  "
      ]
     },
     "execution_count": 2,
     "metadata": {},
     "output_type": "execute_result"
    }
   ],
   "source": [
    "import pandas as pd\n",
    "df_taxi = pd.read_csv(taxi_file)\n",
    "df_taxi.head(5)"
   ]
  },
  {
   "cell_type": "code",
   "execution_count": 22,
   "id": "db2b0c7c",
   "metadata": {},
   "outputs": [
    {
     "data": {
      "text/plain": [
       "<AxesSubplot:>"
      ]
     },
     "execution_count": 22,
     "metadata": {},
     "output_type": "execute_result"
    },
    {
     "data": {
      "image/png": "[encoded data removed]",
      "text/plain": [
       "<Figure size 432x288 with 1 Axes>"
      ]
     },
     "metadata": {
      "needs_background": "light"
     },
     "output_type": "display_data"
    }
   ],
   "source": [
    "df_taxi['passenger_count'].hist()"
   ]
  },
  {
   "cell_type": "markdown",
   "id": "4d52808c-cb6b-4a2b-a183-5c886bbe6b85",
   "metadata": {},
   "source": [
    "#### Exercise 1.2\n",
    "##### Find the dimensions (number of rows and number of columns) in the data."
   ]
  },
  {
   "cell_type": "code",
   "execution_count": 5,
   "id": "f4e7275f-4009-4cc9-911d-da92efb79fdd",
   "metadata": {},
   "outputs": [
    {
     "data": {
      "text/plain": [
       "(10000, 18)"
      ]
     },
     "execution_count": 5,
     "metadata": {},
     "output_type": "execute_result"
    }
   ],
   "source": [
    "df_taxi.shape"
   ]
  },
  {
   "cell_type": "markdown",
   "id": "b4e9aa37-a244-4e4c-8caa-9d13ca8c7f71",
   "metadata": {
    "tags": []
   },
   "source": [
    "#### Exercise 1.3\n",
    "##### Using the data in the `2019_Yellow_Taxi_Trip_Data.csv` file, calculate summary statistics for the `fare_amount`, `tip_amount`, `tolls_amount`, and `total_amount` columns."
   ]
  },
  {
   "cell_type": "code",
   "execution_count": 7,
   "id": "8577fc58-fd5f-412b-aa2e-50c541c5778b",
   "metadata": {},
   "outputs": [
    {
     "data": {
      "text/html": [
       "<div>\n",
       "<style scoped>\n",
       "    .dataframe tbody tr th:only-of-type {\n",
       "        vertical-align: middle;\n",
       "    }\n",
       "\n",
       "    .dataframe tbody tr th {\n",
       "        vertical-align: top;\n",
       "    }\n",
       "\n",
       "    .dataframe thead th {\n",
       "        text-align: right;\n",
       "    }\n",
       "</style>\n",
       "<table border=\"1\" class=\"dataframe\">\n",
       "  <thead>\n",
       "    <tr style=\"text-align: right;\">\n",
       "      <th></th>\n",
       "      <th>fare_amount</th>\n",
       "      <th>tip_amount</th>\n",
       "      <th>tolls_amount</th>\n",
       "      <th>total_amount</th>\n",
       "    </tr>\n",
       "  </thead>\n",
       "  <tbody>\n",
       "    <tr>\n",
       "      <th>count</th>\n",
       "      <td>10000.000000</td>\n",
       "      <td>10000.000000</td>\n",
       "      <td>10000.000000</td>\n",
       "      <td>10000.000000</td>\n",
       "    </tr>\n",
       "    <tr>\n",
       "      <th>mean</th>\n",
       "      <td>15.106313</td>\n",
       "      <td>2.634494</td>\n",
       "      <td>0.623447</td>\n",
       "      <td>22.564659</td>\n",
       "    </tr>\n",
       "    <tr>\n",
       "      <th>std</th>\n",
       "      <td>13.954762</td>\n",
       "      <td>3.409800</td>\n",
       "      <td>6.437507</td>\n",
       "      <td>19.209255</td>\n",
       "    </tr>\n",
       "    <tr>\n",
       "      <th>min</th>\n",
       "      <td>-52.000000</td>\n",
       "      <td>0.000000</td>\n",
       "      <td>-6.120000</td>\n",
       "      <td>-65.920000</td>\n",
       "    </tr>\n",
       "    <tr>\n",
       "      <th>25%</th>\n",
       "      <td>7.000000</td>\n",
       "      <td>0.000000</td>\n",
       "      <td>0.000000</td>\n",
       "      <td>12.375000</td>\n",
       "    </tr>\n",
       "    <tr>\n",
       "      <th>50%</th>\n",
       "      <td>10.000000</td>\n",
       "      <td>2.000000</td>\n",
       "      <td>0.000000</td>\n",
       "      <td>16.300000</td>\n",
       "    </tr>\n",
       "    <tr>\n",
       "      <th>75%</th>\n",
       "      <td>16.000000</td>\n",
       "      <td>3.250000</td>\n",
       "      <td>0.000000</td>\n",
       "      <td>22.880000</td>\n",
       "    </tr>\n",
       "    <tr>\n",
       "      <th>max</th>\n",
       "      <td>176.000000</td>\n",
       "      <td>43.000000</td>\n",
       "      <td>612.000000</td>\n",
       "      <td>671.800000</td>\n",
       "    </tr>\n",
       "  </tbody>\n",
       "</table>\n",
       "</div>"
      ],
      "text/plain": [
       "        fare_amount    tip_amount  tolls_amount  total_amount\n",
       "count  10000.000000  10000.000000  10000.000000  10000.000000\n",
       "mean      15.106313      2.634494      0.623447     22.564659\n",
       "std       13.954762      3.409800      6.437507     19.209255\n",
       "min      -52.000000      0.000000     -6.120000    -65.920000\n",
       "25%        7.000000      0.000000      0.000000     12.375000\n",
       "50%       10.000000      2.000000      0.000000     16.300000\n",
       "75%       16.000000      3.250000      0.000000     22.880000\n",
       "max      176.000000     43.000000    612.000000    671.800000"
      ]
     },
     "execution_count": 7,
     "metadata": {},
     "output_type": "execute_result"
    }
   ],
   "source": [
    "df_taxi[['fare_amount', 'tip_amount', 'tolls_amount', 'total_amount']].describe()"
   ]
  },
  {
   "cell_type": "markdown",
   "id": "4fbf547b-a273-4327-b17a-2c10a58b96bc",
   "metadata": {
    "tags": []
   },
   "source": [
    "#### Exercise 1.4\n",
    "##### Isolate the `fare_amount`, `tip_amount`, `tolls_amount`, and `total_amount` for the longest trip by distance (`trip_distance`)."
   ]
  },
  {
   "cell_type": "code",
   "execution_count": 15,
   "id": "dc75ecfc-19b5-438b-b078-eaf7cfc3e7f3",
   "metadata": {},
   "outputs": [
    {
     "data": {
      "text/plain": [
       "fare_amount      176.0\n",
       "tip_amount       18.29\n",
       "tolls_amount      6.12\n",
       "total_amount    201.21\n",
       "Name: 8338, dtype: object"
      ]
     },
     "execution_count": 15,
     "metadata": {},
     "output_type": "execute_result"
    }
   ],
   "source": [
    "df_taxi.loc[df_taxi['trip_distance'].idxmax(), ['fare_amount', 'tip_amount', 'tolls_amount', 'total_amount']]"
   ]
  },
  {
   "cell_type": "code",
   "execution_count": 24,
   "id": "3b46d90f",
   "metadata": {},
   "outputs": [
    {
     "data": {
      "text/plain": [
       "7.588532347504614"
      ]
     },
     "execution_count": 24,
     "metadata": {},
     "output_type": "execute_result"
    }
   ],
   "source": [
    "df_taxi[df_taxi['fare_amount'] > df_taxi['fare_amount'].mean()]['trip_distance'].mean()"
   ]
  },
  {
   "cell_type": "code",
   "execution_count": 25,
   "id": "26719ccd",
   "metadata": {},
   "outputs": [
    {
     "data": {
      "text/plain": [
       "1.3194681288553831"
      ]
     },
     "execution_count": 25,
     "metadata": {},
     "output_type": "execute_result"
    }
   ],
   "source": [
    "df_taxi[df_taxi['fare_amount'] < df_taxi['fare_amount'].mean()]['trip_distance'].mean()"
   ]
  },
  {
   "cell_type": "markdown",
   "id": "26d919d1",
   "metadata": {},
   "source": [
    "#### Exercise 1.5\n",
    "##### What is the vendorId that makes the most tip (column `tip_amount`) in average ? In total ?"
   ]
  },
  {
   "cell_type": "code",
   "execution_count": null,
   "id": "a378e20e",
   "metadata": {},
   "outputs": [],
   "source": []
  },
  {
   "cell_type": "markdown",
   "id": "48c03afb",
   "metadata": {},
   "source": [
    "#### Exercise 1.6\n",
    "##### What is the average distance (`trip_distance`) of the first half of the data_frame ? Of the second half ?"
   ]
  },
  {
   "cell_type": "code",
   "execution_count": 19,
   "id": "93cb076d",
   "metadata": {},
   "outputs": [
    {
     "data": {
      "text/plain": [
       "2.9037012597480514"
      ]
     },
     "execution_count": 19,
     "metadata": {},
     "output_type": "execute_result"
    }
   ],
   "source": [
    "nbrow, nbcol = df_taxi.shape\n",
    "df_taxi.loc[:nbrow//2, 'trip_distance'].mean()"
   ]
  },
  {
   "cell_type": "code",
   "execution_count": 20,
   "id": "bfc345ab",
   "metadata": {},
   "outputs": [
    {
     "data": {
      "text/plain": [
       "3.1265340000000057"
      ]
     },
     "execution_count": 20,
     "metadata": {},
     "output_type": "execute_result"
    }
   ],
   "source": [
    "nbrow, nbcol = df_taxi.shape\n",
    "df_taxi.loc[nbrow//2:, 'trip_distance'].mean()"
   ]
  },
  {
   "cell_type": "markdown",
   "id": "5f50c561",
   "metadata": {},
   "source": [
    "#### Exercise 1.7\n",
    "##### Who is the fatest driver ? (best average speed, based on pickup time, dropoff time and distance)"
   ]
  },
  {
   "cell_type": "code",
   "execution_count": null,
   "id": "957d47d9",
   "metadata": {},
   "outputs": [],
   "source": []
  },
  {
   "cell_type": "markdown",
   "id": "609c5d86",
   "metadata": {},
   "source": [
    "#### Exercise 1.8\n",
    "##### What is the most interesting number of passenger in term of average tip per passenger ? In term of average tip ?"
   ]
  },
  {
   "cell_type": "code",
   "execution_count": null,
   "id": "2091e03a",
   "metadata": {},
   "outputs": [],
   "source": []
  },
  {
   "cell_type": "markdown",
   "id": "fe2395a5",
   "metadata": {},
   "source": [
    "#### Exercise 1.9\n",
    "##### What is the best hour of the day to get good tip ?"
   ]
  },
  {
   "cell_type": "code",
   "execution_count": null,
   "id": "76f57510",
   "metadata": {},
   "outputs": [],
   "source": []
  },
  {
   "cell_type": "markdown",
   "id": "b9aaeed4-127a-412b-93f6-b179e4ba85f0",
   "metadata": {},
   "source": [
    "---\n",
    "\n",
    "### Section 2\n",
    "\n",
    "#### Exercise 2.1\n",
    "##### Read in the meteorite data from the `Meteorite_Landings.csv` file, rename the `mass (g)` column to `mass`, and drop all the latitude and longitude columns. Sort the result by mass in descending order."
   ]
  },
  {
   "cell_type": "code",
   "execution_count": null,
   "id": "ada49a08-cda7-42ee-ade9-8bb2a2c5a9b8",
   "metadata": {},
   "outputs": [],
   "source": []
  },
  {
   "cell_type": "markdown",
   "id": "6994b42d-8205-4584-84a0-b3a7fa56c9b1",
   "metadata": {},
   "source": [
    "#### Exercise 2.2\n",
    "##### Using the meteorite data from the `Meteorite_Landings.csv` file, update the `year` column to only contain the year, convert it to a numeric data type, and create a new column indicating whether the meteorite was observed falling before 1970. Set the index to the `id` column and extract all the rows with IDs between 10,036 and 10,040 (inclusive) with `loc[]`.\n",
    "\n",
    "###### **Hint 1**: Use `year.str.slice()` to grab a substring.\n",
    "\n",
    "###### **Hint 2**: Make sure to sort the index before using `loc[]` to select the range.\n",
    "\n",
    "###### **Bonus**: There's a data entry error in the `year` column. Can you find it? (Don't spend too much time on this.)"
   ]
  },
  {
   "cell_type": "code",
   "execution_count": null,
   "id": "02605233-73c5-4cd9-8134-b38ab749e8df",
   "metadata": {},
   "outputs": [],
   "source": []
  },
  {
   "cell_type": "markdown",
   "id": "16d1f8ab-ad56-412d-8df7-a59252f282cf",
   "metadata": {},
   "source": [
    "#### Exercise 2.3\n",
    "##### Using the meteorite data from the `Meteorite_Landings.csv` file, create a pivot table that shows both the number of meteorites and the 95th percentile of meteorite mass for those that were found versus observed falling per year from 2005 through 2009 (inclusive). Hint: Be sure to convert the `year` column to a number as we did in the previous exercise."
   ]
  },
  {
   "cell_type": "code",
   "execution_count": null,
   "id": "511433c4-5a9d-41a4-8050-0e953225da0e",
   "metadata": {},
   "outputs": [],
   "source": []
  },
  {
   "cell_type": "markdown",
   "id": "4243c25b-6b5d-4fec-a818-3766be46c7a1",
   "metadata": {},
   "source": [
    "#### Exercise 2.4\n",
    "##### Using the meteorite data from the `Meteorite_Landings.csv` file, compare summary statistics of the mass column for the meteorites that were found versus observed falling."
   ]
  },
  {
   "cell_type": "code",
   "execution_count": null,
   "id": "79aebbf8-1935-449f-94d8-aea0e1b67b4b",
   "metadata": {},
   "outputs": [],
   "source": []
  },
  {
   "cell_type": "markdown",
   "id": "9fb76130-c968-4d24-bf11-3337f846a621",
   "metadata": {},
   "source": [
    "#### Exercise 2.5\n",
    "##### Using the taxi trip data in the `2019_Yellow_Taxi_Trip_Data.csv` file, resample the data to an hourly frequency based on the dropoff time. Calculate the total `trip_distance`, `fare_amount`, `tolls_amount`, and `tip_amount`, then find the 5 hours with the most tips."
   ]
  },
  {
   "cell_type": "code",
   "execution_count": null,
   "id": "1f5423f5-c685-4bb2-ac01-8d334d26f341",
   "metadata": {},
   "outputs": [],
   "source": []
  },
  {
   "cell_type": "markdown",
   "id": "b878c7da-bd82-4e95-9302-e68d67b56f31",
   "metadata": {},
   "source": [
    "--- \n",
    "\n",
    "### Section 3\n",
    "\n",
    "#### Exercise 3.1\n",
    "##### Using the TSA traveler throughput data in the `tsa_melted_holiday_travel.csv` file, create box plots for traveler throughput for each year in the data. Hint: Pass `kind='box'` into the `plot()` method to generate box plots."
   ]
  },
  {
   "cell_type": "code",
   "execution_count": null,
   "id": "0d275b26-c701-4c32-b480-8a4b0119f830",
   "metadata": {},
   "outputs": [],
   "source": []
  },
  {
   "cell_type": "markdown",
   "id": "6bdaffc7-b865-41cd-bd6a-fb02576ce814",
   "metadata": {},
   "source": [
    "#### Exercise 3.2\n",
    "##### Using the TSA traveler throughput data in the `tsa_melted_holiday_travel.csv` file, create a heatmap that shows the 2019 TSA median traveler throughput by day of week and month."
   ]
  },
  {
   "cell_type": "code",
   "execution_count": null,
   "id": "9afe6aa8-9078-4dd8-98bb-7f68976f97a5",
   "metadata": {},
   "outputs": [],
   "source": []
  },
  {
   "cell_type": "markdown",
   "id": "81436a29-c7ca-40a3-b1c5-7a1947709bd3",
   "metadata": {},
   "source": [
    "#### Exercise 3.3\n",
    "##### Annotate the medians in the box plot from *[Exercise 3.1](#Exercise-3.1)*. Hint: The `x` coordinates will be 1, 2, and 3 for 2019, 2020, and 2021, respectively. Alternatively, to avoid hardcoding values, you can use the `Axes.get_xticklabels()` method, in which case you should look at the [documentation](https://matplotlib.org/stable/api/text_api.html) for the `Text` class."
   ]
  },
  {
   "cell_type": "code",
   "execution_count": null,
   "id": "b0d32c60-fd9f-4b35-a6ec-de1489951e16",
   "metadata": {},
   "outputs": [],
   "source": []
  }
 ],
 "metadata": {
  "kernelspec": {
   "display_name": "Python 3 (ipykernel)",
   "language": "python",
   "name": "python3"
  },
  "language_info": {
   "codemirror_mode": {
    "name": "ipython",
    "version": 3
   },
   "file_extension": ".py",
   "mimetype": "text/x-python",
   "name": "python",
   "nbconvert_exporter": "python",
   "pygments_lexer": "ipython3",
   "version": "3.9.7"
  }
 },
 "nbformat": 4,
 "nbformat_minor": 5
}
