{
 "cells": [
  {
   "cell_type": "markdown",
   "metadata": {},
   "source": [
    "# TP numpy et matrix"
   ]
  },
  {
   "cell_type": "markdown",
   "metadata": {},
   "source": [
    "### Exercice 1 : création de vector et matrix\n",
    "\n",
    "#### Question 1 : création d'un vector de 1 avec la fonction \"ones\"\n",
    "\n",
    "En utilisant le constructeur np.ones auquel on donnera en argument un entier, construisez le vector de 3 éléments suivants :\n",
    "\n",
    "vector_q1 = $\\begin{bmatrix}1 & 1 & 1\\end{bmatrix}$\n",
    "\n",
    "Respectez bien ce nom pour les tests unitaires."
   ]
  },
  {
   "cell_type": "code",
   "execution_count": 1,
   "metadata": {},
   "outputs": [
    {
     "name": "stderr",
     "output_type": "stream",
     "text": [
      "test_code (test_numpy_matrices.TestExercice1Q1) ... ok\n",
      "test_fonction (test_numpy_matrices.TestExercice1Q1) ... ok\n",
      "\n",
      "----------------------------------------------------------------------\n",
      "Ran 2 tests in 0.003s\n",
      "\n",
      "OK\n"
     ]
    }
   ],
   "source": [
    "import numpy as np\n",
    "## Insérez votre code ici\n",
    "vector_q1 = np.ones(3)\n",
    "\n",
    "## Ne pas modifier les lignes suivantes\n",
    "import test_numpy_matrices\n",
    "test_numpy_matrices.tester_exo( '1Q1', globals() )"
   ]
  },
  {
   "cell_type": "code",
   "execution_count": null,
   "metadata": {},
   "outputs": [],
   "source": [
    "vector_q1"
   ]
  },
  {
   "cell_type": "markdown",
   "metadata": {},
   "source": [
    "#### Question 2 : création d'un vector de 0 avec la fonction \"zeros\"\n",
    "\n",
    "En utilisant le constructeur np.zeros auquel on donnera en argument un entier, construisez le vector de 5 éléments suivants :\n",
    "\n",
    "vector_q2 = $\\begin{bmatrix}0 & 0 & 0 & 0 & 0\\end{bmatrix}$\n",
    "\n",
    "Respectez bien ce nom pour les tests unitaires."
   ]
  },
  {
   "cell_type": "code",
   "execution_count": null,
   "metadata": {},
   "outputs": [],
   "source": [
    "import numpy as np\n",
    "## Insérez votre code ici\n",
    "vector_q2 = np.zeros(5)\n",
    "\n",
    "## Ne pas modifier les lignes suivantes\n",
    "import test_numpy_matrices\n",
    "test_numpy_matrices.tester_exo( '1Q2', globals() )"
   ]
  },
  {
   "cell_type": "markdown",
   "metadata": {},
   "source": [
    "#### Question 3 : création d'une matrix carré de 0 avec la fonction \"zeros\"\n",
    "\n",
    "En utilisant le constructeur np.zeros, construisez le une matrix carré de 3 \\* 3 éléments suivants :\n",
    "\n",
    "matrix_q3 = $\\begin{bmatrix} 0 & 0 & 0 \\\\ 0 & 0 & 0 \\\\ 0 & 0 & 0 \\end{bmatrix}$\n",
    "\n",
    "Il faudra donner à la fonction np.zeros un tuple en argument.\n",
    "Respectez bien ce nom pour les tests unitaires."
   ]
  },
  {
   "cell_type": "code",
   "execution_count": null,
   "metadata": {},
   "outputs": [],
   "source": [
    "import numpy as np\n",
    "## Insérez votre code ici\n",
    "matrix_q3 = np.zeros( (3,3) )\n",
    "\n",
    "## Ne pas modifier les lignes suivantes\n",
    "import test_numpy_matrices\n",
    "test_numpy_matrices.tester_exo( '1Q3', globals() )"
   ]
  },
  {
   "cell_type": "code",
   "execution_count": null,
   "metadata": {},
   "outputs": [],
   "source": [
    "matrix_q3"
   ]
  },
  {
   "cell_type": "markdown",
   "metadata": {},
   "source": [
    "#### Question 4 : création d'une matrix rectangulaire de 0 avec la fonction \"zeros\"\n",
    "\n",
    "En utilisant le constructeur np.zeros, construisez le une matrix carré de 2 \\* 4 éléments suivants :\n",
    "\n",
    "matrix_q4 = $\\begin{bmatrix} 0 & 0 & 0 & 0 \\\\  0 & 0 & 0 & 0 \\end{bmatrix}$\n",
    "\n",
    "Il faudra donner à la fonction np.zeros un tuple en argument.\n",
    "Respectez bien ce nom pour les tests unitaires."
   ]
  },
  {
   "cell_type": "code",
   "execution_count": null,
   "metadata": {},
   "outputs": [],
   "source": [
    "import numpy as np\n",
    "## Insérez votre code ici\n",
    "matrix_q4 = np.zeros((2,4))\n",
    "\n",
    "## Ne pas modifier les lignes suivantes\n",
    "import test_numpy_matrices\n",
    "test_numpy_matrices.tester_exo( '1Q4', globals() )"
   ]
  },
  {
   "cell_type": "code",
   "execution_count": null,
   "metadata": {},
   "outputs": [],
   "source": [
    "matrix_q4"
   ]
  },
  {
   "cell_type": "markdown",
   "metadata": {},
   "source": [
    "#### Question 5 : création d'une matrix identité avec la fonction \"eye\"\n",
    "\n",
    "En utilisant le constructeur np.eye, construisez le une matrix carré identité de 3 \\* 3 éléments suivants :\n",
    "\n",
    "matrix_q5 = $\\begin{bmatrix} 1 & 0 & 0 \\\\ 0 & 1 & 0 \\\\ 0 & 0 & 1 \\end{bmatrix}$\n",
    "\n",
    "Respectez bien ce nom pour les tests unitaires."
   ]
  },
  {
   "cell_type": "code",
   "execution_count": null,
   "metadata": {},
   "outputs": [],
   "source": [
    "import numpy as np\n",
    "## Insérez votre code ici\n",
    "matrix_q5 = np.eye(3)\n",
    "\n",
    "## Ne pas modifier les lignes suivantes\n",
    "import test_numpy_matrices\n",
    "test_numpy_matrices.tester_exo( '1Q5', globals() )"
   ]
  },
  {
   "cell_type": "code",
   "execution_count": null,
   "metadata": {
    "collapsed": true
   },
   "outputs": [],
   "source": []
  },
  {
   "cell_type": "markdown",
   "metadata": {},
   "source": [
    "#### Question 6 : création d'un matrix triangulaire supérieure avec la fonction \"eye\"\n",
    "\n",
    "En utilisant le constructeur np.eye, construisez une matrix triangulaire supérieure de 3 \\* 3 éléments dont les valeurs sont les suivantes :\n",
    "\n",
    "matrix_q6 = $\\begin{bmatrix} 1 & 2 & 3 \\\\ 0 & 1 & 2 \\\\ 0 & 0 & 1 \\end{bmatrix}$\n",
    "\n",
    "On ne pourra pas obtenir cela uniquement avec la fonction eye, il faudra aussi utiliser des assignations de valeurs d'une matrix. Celles-ci fonctionnent comme avec les listes, seulement si il y a deux coordonnées on les sépare par une virgule.\n",
    "\n",
    "Par exemple :\n",
    "\n",
    "~~~\n",
    "print( matrix_q6[1,1] ) ## Affiche l'élément central\n",
    "~~~\n",
    "\n",
    "Respectez bien ce nom pour les tests unitaires."
   ]
  },
  {
   "cell_type": "code",
   "execution_count": null,
   "metadata": {},
   "outputs": [],
   "source": [
    "import numpy as np\n",
    "## Insérez votre code ici\n",
    "matrix_q6 = np.eye(3)\n",
    "matrix_q6[1,2] = 2\n",
    "matrix_q6[0,1] = 2\n",
    "matrix_q6[0,2] = 3\n",
    "\n",
    "## Ne pas modifier les lignes suivantes\n",
    "import test_numpy_matrices\n",
    "test_numpy_matrices.tester_exo( '1Q6', globals() )"
   ]
  },
  {
   "cell_type": "markdown",
   "metadata": {},
   "source": [
    "#### Question 7: création d'un vector avec le constructeur np.array\n",
    "\n",
    "En utilisant le constructeur np.array( ... ) auquel on donnera en argument une liste, construisez le vector de longueur 4 suivante :\n",
    "\n",
    "vector_q7 = $\\begin{bmatrix}1 & 2 & 3 & 4 \\end{bmatrix}$"
   ]
  },
  {
   "cell_type": "code",
   "execution_count": null,
   "metadata": {},
   "outputs": [],
   "source": [
    "import numpy as np\n",
    "## Insérez votre code ici\n",
    "vector_q7 = np.array( [1,2,3,4] )\n",
    "\n",
    "## Ne pas modifier les lignes suivantes\n",
    "import test_numpy_matrices\n",
    "test_numpy_matrices.tester_exo( '1Q7', globals() )"
   ]
  },
  {
   "cell_type": "markdown",
   "metadata": {},
   "source": [
    "#### Question 8: création d'un matrix avec le constructeur np.array\n",
    "\n",
    "En utilisant le constructeur np.array( ... ) auquel on donnera en argument une liste de liste, construisez les matrix 4\\*1 suivante :\n",
    "\n",
    "matrix_q8 = $\\begin{bmatrix}1 \\\\ 4 \\\\ 9 \\\\ 16\\end{bmatrix}$\n",
    "\n",
    "Respectez bien ce nom pour les tests unitaires.\n",
    "On notera bien qu'une matrix 4\\*1 est différente d'un vector (cela peut être imposée pour certaines fonctions, et amener à des résultats différents pour certaines opérations (notamment le produit matriciel)"
   ]
  },
  {
   "cell_type": "code",
   "execution_count": null,
   "metadata": {},
   "outputs": [],
   "source": [
    "import numpy as np\n",
    "## Insérez votre code ici\n",
    "matrix_q8 = np.array( [[1],[4],[9],[16]] )\n",
    "\n",
    "## Ne pas modifier les lignes suivantes\n",
    "import test_numpy_matrices\n",
    "test_numpy_matrices.tester_exo( '1Q8', globals() )"
   ]
  },
  {
   "cell_type": "code",
   "execution_count": null,
   "metadata": {
    "collapsed": true
   },
   "outputs": [],
   "source": [
    "matrix_q8"
   ]
  },
  {
   "cell_type": "markdown",
   "metadata": {
    "collapsed": true
   },
   "source": [
    "### Exercice 2 : calcul de la trace d'une matrix\n",
    "\n",
    "Ecrire une fonction **est_positive** qui prend une matrix en entrée, et renvoit True si tous les termes sont positifs ou nuls"
   ]
  },
  {
   "cell_type": "code",
   "execution_count": 1,
   "metadata": {},
   "outputs": [
    {
     "name": "stderr",
     "output_type": "stream",
     "text": [
      "test_code (test_numpy_matrices.TestExercice2) ... ok\n",
      "test_fonction (test_numpy_matrices.TestExercice2) ... ok\n",
      "\n",
      "----------------------------------------------------------------------\n",
      "Ran 2 tests in 0.004s\n",
      "\n",
      "OK\n"
     ]
    }
   ],
   "source": [
    "import numpy as np\n",
    "## Insérez votre code ici\n",
    "def est_positive( mat ):\n",
    "    return mat.min() >= 0\n",
    "\n",
    "## Ne pas modifier les lignes suivantes\n",
    "import test_numpy_matrices\n",
    "test_numpy_matrices.tester_exo( '2', globals() )"
   ]
  },
  {
   "cell_type": "markdown",
   "metadata": {
    "collapsed": true
   },
   "source": [
    "### Exercice 3 : calcul de la trace d'une matrix\n",
    "\n",
    "Ecrire une fonction **calcule_trace** qui prend une matrix en entrée, et calcule sa trace (autrement dit la somme des termes de sa diagonale).\n",
    "\n",
    "On peut obtenir le nombre de ligne/colonne d'une colonne en uilisant :\n",
    "\n",
    "~~~\n",
    "len( matrix )\n",
    "## ou\n",
    "matrix.shape[0] ## Pour le nombre de lignes\n",
    "matrix.shape[1] ## Pour le nombre de colonnes\n",
    "~~~"
   ]
  },
  {
   "cell_type": "code",
   "execution_count": 1,
   "metadata": {},
   "outputs": [
    {
     "name": "stderr",
     "output_type": "stream",
     "text": [
      "test_fonction (test_numpy_matrices.TestExercice3) ... ok\n",
      "\n",
      "----------------------------------------------------------------------\n",
      "Ran 1 test in 0.008s\n",
      "\n",
      "OK\n"
     ]
    }
   ],
   "source": [
    "import numpy as np\n",
    "## Insérez votre code ici\n",
    "def calcule_trace( mat ):\n",
    "    res = 0\n",
    "    for it in range(len(mat)):\n",
    "        res += mat[it,it]\n",
    "    return res\n",
    "\n",
    "## Ne pas modifier les lignes suivantes\n",
    "import test_numpy_matrices\n",
    "test_numpy_matrices.tester_exo( '3', globals() )"
   ]
  },
  {
   "cell_type": "code",
   "execution_count": null,
   "metadata": {
    "collapsed": true
   },
   "outputs": [],
   "source": []
  },
  {
   "cell_type": "markdown",
   "metadata": {
    "collapsed": true
   },
   "source": [
    "### Exercice 4 : fonction est nihilpotente\n",
    "\n",
    "On rappelle qu'une matrix nihilpotente est une matrix dont l'une des puissances est nulle. \n",
    "\n",
    "Ecrire une fonction **est_nihilpotente** qui prend une matrix en entrée, et renvoie True si elle est nihilpotente, False sinon.\n",
    "\n",
    "On rappelle que pour faire une muliplication matricielle dans sa forme mathématique, la fonction est np.dot (le symbôle \\* faisant des multiplications terme à terme)"
   ]
  },
  {
   "cell_type": "code",
   "execution_count": 1,
   "metadata": {
    "scrolled": true
   },
   "outputs": [
    {
     "name": "stderr",
     "output_type": "stream",
     "text": [
      "test_fonction (test_numpy_matrices.TestExercice4) ... ok\n",
      "\n",
      "----------------------------------------------------------------------\n",
      "Ran 1 test in 0.011s\n",
      "\n",
      "OK\n"
     ]
    }
   ],
   "source": [
    "import numpy as np\n",
    "## Insérez votre code ici\n",
    "def est_nihilpotente( mat ):\n",
    "    count = 1\n",
    "    while count < len(mat):\n",
    "        count *= 2\n",
    "        mat = np.dot(mat, mat)\n",
    "    return (mat == np.zeros(mat.shape)).all()\n",
    "\n",
    "## Ne pas modifier les lignes suivantes\n",
    "import test_numpy_matrices\n",
    "test_numpy_matrices.tester_exo( '4', globals() )"
   ]
  },
  {
   "cell_type": "markdown",
   "metadata": {
    "collapsed": true
   },
   "source": [
    "### Exercice 5 : résolution de système\n",
    "\n",
    "Résolvez le système suivant :\n",
    "\n",
    "$x + 2*y + 3*z = 15$  \n",
    "$x + 3*y + 5*z = 20$  \n",
    "$x + 4*y -   z = 30$  \n",
    "\n",
    "On pourra utiliser la fonction d'inversion de matrix **np.linalg.inv**\n",
    "\n",
    "Indiquez dans la cellule suivante les valeurs de x, y et z.  \n",
    "Vous pouvez vous aider de la cellule en dessous."
   ]
  },
  {
   "cell_type": "code",
   "execution_count": 3,
   "metadata": {},
   "outputs": [
    {
     "name": "stderr",
     "output_type": "stream",
     "text": [
      "test_fonction (test_numpy_matrices.TestExercice5) ... ok\n",
      "\n",
      "----------------------------------------------------------------------\n",
      "Ran 1 test in 0.001s\n",
      "\n",
      "OK\n"
     ]
    }
   ],
   "source": [
    "import numpy as np\n",
    "## Insérez votre code ici\n",
    "x,y,z = np.dot(np.linalg.inv( np.array([[1,2,3],[1,3,5],[1,4,-1]]) ),np.array([15,20,30]))\n",
    "\n",
    "## Ne pas modifier les lignes suivantes\n",
    "import test_numpy_matrices\n",
    "test_numpy_matrices.tester_exo( '5', globals() )"
   ]
  },
  {
   "cell_type": "code",
   "execution_count": 14,
   "metadata": {},
   "outputs": [
    {
     "name": "stdout",
     "output_type": "stream",
     "text": [
      "x + 2*y + 3*z : 15.0\n",
      "x + 3*y + 5*z : 20.0\n",
      "x + 4*y -   z : 30.0\n"
     ]
    }
   ],
   "source": [
    "print(\"x + 2*y + 3*z :\", x + 2*y + 3*z)\n",
    "print(\"x + 3*y + 5*z :\", x + 3*y + 5*z)\n",
    "print(\"x + 4*y -   z :\", x + 4*y -   z)"
   ]
  },
  {
   "cell_type": "markdown",
   "metadata": {
    "collapsed": true
   },
   "source": [
    "### Exercice 6 : fonction est_projecteur\n",
    "\n",
    "Une application linéaire est un projecteur si :  \n",
    "\n",
    "$p \\circ p = p$\n",
    "\n",
    "Ecrire une fonction **est_projecteur** qui prend en entrée une matrix et renvoit True si celle-ci est un projecteur."
   ]
  },
  {
   "cell_type": "code",
   "execution_count": 1,
   "metadata": {},
   "outputs": [
    {
     "name": "stderr",
     "output_type": "stream",
     "text": [
      "test_fonction (test_numpy_matrices.TestExercice6) ... ok\n",
      "\n",
      "----------------------------------------------------------------------\n",
      "Ran 1 test in 0.012s\n",
      "\n",
      "OK\n"
     ]
    }
   ],
   "source": [
    "import numpy as np\n",
    "## Insérez votre code ici\n",
    "def est_projecteur( mat ):\n",
    "    return ((np.dot(mat,mat)-mat)**2).sum() < 1e-6\n",
    "\n",
    "## Ne pas modifier les lignes suivantes\n",
    "import test_numpy_matrices\n",
    "test_numpy_matrices.tester_exo( '6', globals() )"
   ]
  },
  {
   "cell_type": "markdown",
   "metadata": {
    "collapsed": true
   },
   "source": [
    "### Exercice 7 : fonction est_rotation\n",
    "\n",
    "Une application linéaire est un rotation si elle conserve les distances.  \n",
    "C'est à dire que, si A est la matrix de la rotation et X, Y deux vectors quelconques :\n",
    "\n",
    "$ distance(X,Y) == distance(A.X, A.Y)$\n",
    "\n",
    "Ecrire une fonction **est_rotation** qui prend en entrée une matrix carré de dimension 3 et renvoit True si celle-ci est une rotation."
   ]
  },
  {
   "cell_type": "code",
   "execution_count": 1,
   "metadata": {},
   "outputs": [
    {
     "name": "stderr",
     "output_type": "stream",
     "text": [
      "test_fonction (test_numpy_matrices.TestExercice7) ... ok\n",
      "\n",
      "----------------------------------------------------------------------\n",
      "Ran 1 test in 0.007s\n",
      "\n",
      "OK\n"
     ]
    }
   ],
   "source": [
    "import numpy as np\n",
    "## Insérez votre code ici\n",
    "def distance(x,y):\n",
    "    return np.sqrt( ( (x-y) ** 2 ).sum() )\n",
    "\n",
    "def est_rotation( mat ):\n",
    "    for it_vect in (np.array([1,0,0]), np.array([0,1,0]), np.array([0,0,1]),):\n",
    "        res_vect = np.dot( mat, it_vect )\n",
    "        if abs( distance( res_vect, np.zeros(3) ) - 1 ) > 1e-5:\n",
    "            return False\n",
    "        for it_vect2 in (np.array([1,0,0]), np.array([0,1,0]), np.array([0,0,1]),):\n",
    "            res_vect2 = np.dot( mat, it_vect2 )\n",
    "            if (it_vect != it_vect2).any():\n",
    "                if abs( distance( res_vect, res_vect2 ) - np.sqrt(2) ) > 1e-5:\n",
    "                    return False\n",
    "    return True\n",
    "\n",
    "## Ne pas modifier les lignes suivantes\n",
    "import test_numpy_matrices\n",
    "test_numpy_matrices.tester_exo( '7', globals() )"
   ]
  },
  {
   "cell_type": "code",
   "execution_count": null,
   "metadata": {
    "collapsed": true
   },
   "outputs": [],
   "source": []
  }
 ],
 "metadata": {
  "kernelspec": {
   "display_name": "Python 3 (ipykernel)",
   "language": "python",
   "name": "python3"
  },
  "language_info": {
   "codemirror_mode": {
    "name": "ipython",
    "version": 3
   },
   "file_extension": ".py",
   "mimetype": "text/x-python",
   "name": "python",
   "nbconvert_exporter": "python",
   "pygments_lexer": "ipython3",
   "version": "3.9.7"
  }
 },
 "nbformat": 4,
 "nbformat_minor": 1
}
